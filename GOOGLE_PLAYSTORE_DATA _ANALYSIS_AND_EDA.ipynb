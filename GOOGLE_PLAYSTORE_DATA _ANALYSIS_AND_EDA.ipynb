{
 "cells": [
  {
   "cell_type": "code",
   "execution_count": 58,
   "metadata": {
    "_cell_guid": "b1076dfc-b9ad-4769-8c92-a6c4dae69d19",
    "_uuid": "8f2839f25d086af736a60e9eeb907d3b93b6e0e5",
    "execution": {
     "iopub.execute_input": "2022-03-04T11:23:57.998835Z",
     "iopub.status.busy": "2022-03-04T11:23:57.998557Z",
     "iopub.status.idle": "2022-03-04T11:23:58.012483Z",
     "shell.execute_reply": "2022-03-04T11:23:58.011706Z",
     "shell.execute_reply.started": "2022-03-04T11:23:57.998804Z"
    }
   },
   "outputs": [],
   "source": [
    "\n",
    "\n",
    "import numpy as np \n",
    "import pandas as pd\n",
    "\n",
    "\n",
    "\n"
   ]
  },
  {
   "cell_type": "code",
   "execution_count": 59,
   "metadata": {
    "execution": {
     "iopub.execute_input": "2022-03-04T11:23:58.018749Z",
     "iopub.status.busy": "2022-03-04T11:23:58.018226Z",
     "iopub.status.idle": "2022-03-04T11:23:58.118729Z",
     "shell.execute_reply": "2022-03-04T11:23:58.117625Z",
     "shell.execute_reply.started": "2022-03-04T11:23:58.018713Z"
    }
   },
   "outputs": [
    {
     "data": {
      "text/html": [
       "<div>\n",
       "<style scoped>\n",
       "    .dataframe tbody tr th:only-of-type {\n",
       "        vertical-align: middle;\n",
       "    }\n",
       "\n",
       "    .dataframe tbody tr th {\n",
       "        vertical-align: top;\n",
       "    }\n",
       "\n",
       "    .dataframe thead th {\n",
       "        text-align: right;\n",
       "    }\n",
       "</style>\n",
       "<table border=\"1\" class=\"dataframe\">\n",
       "  <thead>\n",
       "    <tr style=\"text-align: right;\">\n",
       "      <th></th>\n",
       "      <th>App</th>\n",
       "      <th>Category</th>\n",
       "      <th>Rating</th>\n",
       "      <th>Reviews</th>\n",
       "      <th>Size</th>\n",
       "      <th>Installs</th>\n",
       "      <th>Type</th>\n",
       "      <th>Price</th>\n",
       "      <th>Content Rating</th>\n",
       "      <th>Genres</th>\n",
       "      <th>Last Updated</th>\n",
       "      <th>Current Ver</th>\n",
       "      <th>Android Ver</th>\n",
       "    </tr>\n",
       "  </thead>\n",
       "  <tbody>\n",
       "    <tr>\n",
       "      <th>0</th>\n",
       "      <td>Photo Editor &amp; Candy Camera &amp; Grid &amp; ScrapBook</td>\n",
       "      <td>ART_AND_DESIGN</td>\n",
       "      <td>4.1</td>\n",
       "      <td>159</td>\n",
       "      <td>19M</td>\n",
       "      <td>10,000+</td>\n",
       "      <td>Free</td>\n",
       "      <td>0</td>\n",
       "      <td>Everyone</td>\n",
       "      <td>Art &amp; Design</td>\n",
       "      <td>January 7, 2018</td>\n",
       "      <td>1.0.0</td>\n",
       "      <td>4.0.3 and up</td>\n",
       "    </tr>\n",
       "    <tr>\n",
       "      <th>1</th>\n",
       "      <td>Coloring book moana</td>\n",
       "      <td>ART_AND_DESIGN</td>\n",
       "      <td>3.9</td>\n",
       "      <td>967</td>\n",
       "      <td>14M</td>\n",
       "      <td>500,000+</td>\n",
       "      <td>Free</td>\n",
       "      <td>0</td>\n",
       "      <td>Everyone</td>\n",
       "      <td>Art &amp; Design;Pretend Play</td>\n",
       "      <td>January 15, 2018</td>\n",
       "      <td>2.0.0</td>\n",
       "      <td>4.0.3 and up</td>\n",
       "    </tr>\n",
       "    <tr>\n",
       "      <th>2</th>\n",
       "      <td>U Launcher Lite – FREE Live Cool Themes, Hide ...</td>\n",
       "      <td>ART_AND_DESIGN</td>\n",
       "      <td>4.7</td>\n",
       "      <td>87510</td>\n",
       "      <td>8.7M</td>\n",
       "      <td>5,000,000+</td>\n",
       "      <td>Free</td>\n",
       "      <td>0</td>\n",
       "      <td>Everyone</td>\n",
       "      <td>Art &amp; Design</td>\n",
       "      <td>August 1, 2018</td>\n",
       "      <td>1.2.4</td>\n",
       "      <td>4.0.3 and up</td>\n",
       "    </tr>\n",
       "    <tr>\n",
       "      <th>3</th>\n",
       "      <td>Sketch - Draw &amp; Paint</td>\n",
       "      <td>ART_AND_DESIGN</td>\n",
       "      <td>4.5</td>\n",
       "      <td>215644</td>\n",
       "      <td>25M</td>\n",
       "      <td>50,000,000+</td>\n",
       "      <td>Free</td>\n",
       "      <td>0</td>\n",
       "      <td>Teen</td>\n",
       "      <td>Art &amp; Design</td>\n",
       "      <td>June 8, 2018</td>\n",
       "      <td>Varies with device</td>\n",
       "      <td>4.2 and up</td>\n",
       "    </tr>\n",
       "    <tr>\n",
       "      <th>4</th>\n",
       "      <td>Pixel Draw - Number Art Coloring Book</td>\n",
       "      <td>ART_AND_DESIGN</td>\n",
       "      <td>4.3</td>\n",
       "      <td>967</td>\n",
       "      <td>2.8M</td>\n",
       "      <td>100,000+</td>\n",
       "      <td>Free</td>\n",
       "      <td>0</td>\n",
       "      <td>Everyone</td>\n",
       "      <td>Art &amp; Design;Creativity</td>\n",
       "      <td>June 20, 2018</td>\n",
       "      <td>1.1</td>\n",
       "      <td>4.4 and up</td>\n",
       "    </tr>\n",
       "  </tbody>\n",
       "</table>\n",
       "</div>"
      ],
      "text/plain": [
       "                                                 App        Category  Rating  \\\n",
       "0     Photo Editor & Candy Camera & Grid & ScrapBook  ART_AND_DESIGN     4.1   \n",
       "1                                Coloring book moana  ART_AND_DESIGN     3.9   \n",
       "2  U Launcher Lite – FREE Live Cool Themes, Hide ...  ART_AND_DESIGN     4.7   \n",
       "3                              Sketch - Draw & Paint  ART_AND_DESIGN     4.5   \n",
       "4              Pixel Draw - Number Art Coloring Book  ART_AND_DESIGN     4.3   \n",
       "\n",
       "  Reviews  Size     Installs  Type Price Content Rating  \\\n",
       "0     159   19M      10,000+  Free     0       Everyone   \n",
       "1     967   14M     500,000+  Free     0       Everyone   \n",
       "2   87510  8.7M   5,000,000+  Free     0       Everyone   \n",
       "3  215644   25M  50,000,000+  Free     0           Teen   \n",
       "4     967  2.8M     100,000+  Free     0       Everyone   \n",
       "\n",
       "                      Genres      Last Updated         Current Ver  \\\n",
       "0               Art & Design   January 7, 2018               1.0.0   \n",
       "1  Art & Design;Pretend Play  January 15, 2018               2.0.0   \n",
       "2               Art & Design    August 1, 2018               1.2.4   \n",
       "3               Art & Design      June 8, 2018  Varies with device   \n",
       "4    Art & Design;Creativity     June 20, 2018                 1.1   \n",
       "\n",
       "    Android Ver  \n",
       "0  4.0.3 and up  \n",
       "1  4.0.3 and up  \n",
       "2  4.0.3 and up  \n",
       "3    4.2 and up  \n",
       "4    4.4 and up  "
      ]
     },
     "execution_count": 59,
     "metadata": {},
     "output_type": "execute_result"
    }
   ],
   "source": [
    "df=pd.read_csv(r\"C:\\Users\\Om\\Machine_learning\\googleplaystore.csv\")\n",
    "df1=df.copy()\n",
    "df.head()"
   ]
  },
  {
   "cell_type": "code",
   "execution_count": 60,
   "metadata": {
    "execution": {
     "iopub.execute_input": "2022-03-04T11:23:58.120974Z",
     "iopub.status.busy": "2022-03-04T11:23:58.120693Z",
     "iopub.status.idle": "2022-03-04T11:23:58.130585Z",
     "shell.execute_reply": "2022-03-04T11:23:58.129403Z",
     "shell.execute_reply.started": "2022-03-04T11:23:58.120943Z"
    }
   },
   "outputs": [
    {
     "data": {
      "text/plain": [
       "Index(['App', 'Category', 'Rating', 'Reviews', 'Size', 'Installs', 'Type',\n",
       "       'Price', 'Content Rating', 'Genres', 'Last Updated', 'Current Ver',\n",
       "       'Android Ver'],\n",
       "      dtype='object')"
      ]
     },
     "execution_count": 60,
     "metadata": {},
     "output_type": "execute_result"
    }
   ],
   "source": [
    "df.columns"
   ]
  },
  {
   "cell_type": "code",
   "execution_count": 61,
   "metadata": {
    "execution": {
     "iopub.execute_input": "2022-03-04T11:23:58.133111Z",
     "iopub.status.busy": "2022-03-04T11:23:58.132068Z",
     "iopub.status.idle": "2022-03-04T11:23:58.144309Z",
     "shell.execute_reply": "2022-03-04T11:23:58.143588Z",
     "shell.execute_reply.started": "2022-03-04T11:23:58.133045Z"
    }
   },
   "outputs": [
    {
     "data": {
      "text/plain": [
       "(10841, 13)"
      ]
     },
     "execution_count": 61,
     "metadata": {},
     "output_type": "execute_result"
    }
   ],
   "source": [
    "df.shape"
   ]
  },
  {
   "cell_type": "code",
   "execution_count": 62,
   "metadata": {
    "execution": {
     "iopub.execute_input": "2022-03-04T11:23:58.146657Z",
     "iopub.status.busy": "2022-03-04T11:23:58.145930Z",
     "iopub.status.idle": "2022-03-04T11:23:58.177016Z",
     "shell.execute_reply": "2022-03-04T11:23:58.175942Z",
     "shell.execute_reply.started": "2022-03-04T11:23:58.146613Z"
    }
   },
   "outputs": [
    {
     "data": {
      "text/plain": [
       "App               False\n",
       "Category          False\n",
       "Rating             True\n",
       "Reviews           False\n",
       "Size              False\n",
       "Installs          False\n",
       "Type               True\n",
       "Price             False\n",
       "Content Rating     True\n",
       "Genres            False\n",
       "Last Updated      False\n",
       "Current Ver        True\n",
       "Android Ver        True\n",
       "dtype: bool"
      ]
     },
     "execution_count": 62,
     "metadata": {},
     "output_type": "execute_result"
    }
   ],
   "source": [
    "df.isnull().any()"
   ]
  },
  {
   "cell_type": "code",
   "execution_count": 63,
   "metadata": {
    "execution": {
     "iopub.execute_input": "2022-03-04T11:23:58.178894Z",
     "iopub.status.busy": "2022-03-04T11:23:58.178518Z",
     "iopub.status.idle": "2022-03-04T11:23:58.204480Z",
     "shell.execute_reply": "2022-03-04T11:23:58.203622Z",
     "shell.execute_reply.started": "2022-03-04T11:23:58.178843Z"
    }
   },
   "outputs": [
    {
     "data": {
      "text/plain": [
       "App                  0\n",
       "Category             0\n",
       "Rating            1474\n",
       "Reviews              0\n",
       "Size                 0\n",
       "Installs             0\n",
       "Type                 1\n",
       "Price                0\n",
       "Content Rating       1\n",
       "Genres               0\n",
       "Last Updated         0\n",
       "Current Ver          8\n",
       "Android Ver          3\n",
       "dtype: int64"
      ]
     },
     "execution_count": 63,
     "metadata": {},
     "output_type": "execute_result"
    }
   ],
   "source": [
    "df.isnull().sum()"
   ]
  },
  {
   "cell_type": "code",
   "execution_count": 64,
   "metadata": {
    "execution": {
     "iopub.execute_input": "2022-03-04T11:23:58.206391Z",
     "iopub.status.busy": "2022-03-04T11:23:58.205812Z",
     "iopub.status.idle": "2022-03-04T11:23:59.428845Z",
     "shell.execute_reply": "2022-03-04T11:23:59.427830Z",
     "shell.execute_reply.started": "2022-03-04T11:23:58.206346Z"
    }
   },
   "outputs": [],
   "source": [
    "import matplotlib.pyplot as plt\n",
    "import seaborn as sns\n",
    "%matplotlib inline"
   ]
  },
  {
   "cell_type": "code",
   "execution_count": 65,
   "metadata": {
    "execution": {
     "iopub.execute_input": "2022-03-04T11:23:59.430363Z",
     "iopub.status.busy": "2022-03-04T11:23:59.430092Z",
     "iopub.status.idle": "2022-03-04T11:23:59.471719Z",
     "shell.execute_reply": "2022-03-04T11:23:59.471011Z",
     "shell.execute_reply.started": "2022-03-04T11:23:59.430332Z"
    }
   },
   "outputs": [
    {
     "name": "stdout",
     "output_type": "stream",
     "text": [
      "<class 'pandas.core.frame.DataFrame'>\n",
      "RangeIndex: 10841 entries, 0 to 10840\n",
      "Data columns (total 13 columns):\n",
      " #   Column          Non-Null Count  Dtype  \n",
      "---  ------          --------------  -----  \n",
      " 0   App             10841 non-null  object \n",
      " 1   Category        10841 non-null  object \n",
      " 2   Rating          9367 non-null   float64\n",
      " 3   Reviews         10841 non-null  object \n",
      " 4   Size            10841 non-null  object \n",
      " 5   Installs        10841 non-null  object \n",
      " 6   Type            10840 non-null  object \n",
      " 7   Price           10841 non-null  object \n",
      " 8   Content Rating  10840 non-null  object \n",
      " 9   Genres          10841 non-null  object \n",
      " 10  Last Updated    10841 non-null  object \n",
      " 11  Current Ver     10833 non-null  object \n",
      " 12  Android Ver     10838 non-null  object \n",
      "dtypes: float64(1), object(12)\n",
      "memory usage: 1.1+ MB\n"
     ]
    }
   ],
   "source": [
    "df.info()"
   ]
  },
  {
   "cell_type": "code",
   "execution_count": 66,
   "metadata": {
    "execution": {
     "iopub.execute_input": "2022-03-04T11:23:59.473312Z",
     "iopub.status.busy": "2022-03-04T11:23:59.472686Z",
     "iopub.status.idle": "2022-03-04T11:23:59.493107Z",
     "shell.execute_reply": "2022-03-04T11:23:59.492048Z",
     "shell.execute_reply.started": "2022-03-04T11:23:59.473240Z"
    }
   },
   "outputs": [
    {
     "data": {
      "text/html": [
       "<div>\n",
       "<style scoped>\n",
       "    .dataframe tbody tr th:only-of-type {\n",
       "        vertical-align: middle;\n",
       "    }\n",
       "\n",
       "    .dataframe tbody tr th {\n",
       "        vertical-align: top;\n",
       "    }\n",
       "\n",
       "    .dataframe thead th {\n",
       "        text-align: right;\n",
       "    }\n",
       "</style>\n",
       "<table border=\"1\" class=\"dataframe\">\n",
       "  <thead>\n",
       "    <tr style=\"text-align: right;\">\n",
       "      <th></th>\n",
       "      <th>Rating</th>\n",
       "    </tr>\n",
       "  </thead>\n",
       "  <tbody>\n",
       "    <tr>\n",
       "      <th>count</th>\n",
       "      <td>9367.000000</td>\n",
       "    </tr>\n",
       "    <tr>\n",
       "      <th>mean</th>\n",
       "      <td>4.193338</td>\n",
       "    </tr>\n",
       "    <tr>\n",
       "      <th>std</th>\n",
       "      <td>0.537431</td>\n",
       "    </tr>\n",
       "    <tr>\n",
       "      <th>min</th>\n",
       "      <td>1.000000</td>\n",
       "    </tr>\n",
       "    <tr>\n",
       "      <th>25%</th>\n",
       "      <td>4.000000</td>\n",
       "    </tr>\n",
       "    <tr>\n",
       "      <th>50%</th>\n",
       "      <td>4.300000</td>\n",
       "    </tr>\n",
       "    <tr>\n",
       "      <th>75%</th>\n",
       "      <td>4.500000</td>\n",
       "    </tr>\n",
       "    <tr>\n",
       "      <th>max</th>\n",
       "      <td>19.000000</td>\n",
       "    </tr>\n",
       "  </tbody>\n",
       "</table>\n",
       "</div>"
      ],
      "text/plain": [
       "            Rating\n",
       "count  9367.000000\n",
       "mean      4.193338\n",
       "std       0.537431\n",
       "min       1.000000\n",
       "25%       4.000000\n",
       "50%       4.300000\n",
       "75%       4.500000\n",
       "max      19.000000"
      ]
     },
     "execution_count": 66,
     "metadata": {},
     "output_type": "execute_result"
    }
   ],
   "source": [
    "df.describe()"
   ]
  },
  {
   "cell_type": "raw",
   "metadata": {},
   "source": []
  },
  {
   "cell_type": "code",
   "execution_count": 67,
   "metadata": {
    "execution": {
     "iopub.execute_input": "2022-03-04T11:23:59.497279Z",
     "iopub.status.busy": "2022-03-04T11:23:59.496456Z",
     "iopub.status.idle": "2022-03-04T11:23:59.505822Z",
     "shell.execute_reply": "2022-03-04T11:23:59.505003Z",
     "shell.execute_reply.started": "2022-03-04T11:23:59.497202Z"
    }
   },
   "outputs": [],
   "source": [
    "df.at[10472,'Last Updated']='February 11, 2018'\n",
    "df.at[10472,'Genres']= np.nan\n",
    "df.at[10472, 'Type']= 'Free'\n",
    "df.at[10472, 'Price']= 0\n",
    "df.at[10472, 'Size']= '3.0M'\n",
    "df.at[10472, 'Installs']= \"1,000+\"\n",
    "df.at[10472, 'Rating']= 1.9\n",
    "df.at[10472, 'Reviews']= 19.0\n",
    "df.at[10472, 'Content Rating']= 'Everyone'\n",
    "df.at[10472, 'Category'] = np.nan\n"
   ]
  },
  {
   "cell_type": "code",
   "execution_count": 68,
   "metadata": {
    "execution": {
     "iopub.execute_input": "2022-03-04T11:23:59.508097Z",
     "iopub.status.busy": "2022-03-04T11:23:59.507503Z",
     "iopub.status.idle": "2022-03-04T11:23:59.525647Z",
     "shell.execute_reply": "2022-03-04T11:23:59.524700Z",
     "shell.execute_reply.started": "2022-03-04T11:23:59.508047Z"
    }
   },
   "outputs": [
    {
     "data": {
      "text/plain": [
       "App               Life Made WI-Fi Touchscreen Photo Frame\n",
       "Category                                              NaN\n",
       "Rating                                                1.9\n",
       "Reviews                                                19\n",
       "Size                                                 3.0M\n",
       "Installs                                           1,000+\n",
       "Type                                                 Free\n",
       "Price                                                   0\n",
       "Content Rating                                   Everyone\n",
       "Genres                                                NaN\n",
       "Last Updated                            February 11, 2018\n",
       "Current Ver                                    4.0 and up\n",
       "Android Ver                                           NaN\n",
       "Name: 10472, dtype: object"
      ]
     },
     "execution_count": 68,
     "metadata": {},
     "output_type": "execute_result"
    }
   ],
   "source": [
    "df.iloc[10472]"
   ]
  },
  {
   "cell_type": "code",
   "execution_count": 69,
   "metadata": {
    "execution": {
     "iopub.execute_input": "2022-03-04T11:23:59.527211Z",
     "iopub.status.busy": "2022-03-04T11:23:59.526649Z",
     "iopub.status.idle": "2022-03-04T11:23:59.710992Z",
     "shell.execute_reply": "2022-03-04T11:23:59.710048Z",
     "shell.execute_reply.started": "2022-03-04T11:23:59.527179Z"
    }
   },
   "outputs": [
    {
     "data": {
      "text/html": [
       "<div>\n",
       "<style scoped>\n",
       "    .dataframe tbody tr th:only-of-type {\n",
       "        vertical-align: middle;\n",
       "    }\n",
       "\n",
       "    .dataframe tbody tr th {\n",
       "        vertical-align: top;\n",
       "    }\n",
       "\n",
       "    .dataframe thead th {\n",
       "        text-align: right;\n",
       "    }\n",
       "</style>\n",
       "<table border=\"1\" class=\"dataframe\">\n",
       "  <thead>\n",
       "    <tr style=\"text-align: right;\">\n",
       "      <th></th>\n",
       "      <th>App</th>\n",
       "      <th>Category</th>\n",
       "      <th>Rating</th>\n",
       "      <th>Reviews</th>\n",
       "      <th>Size</th>\n",
       "      <th>Installs</th>\n",
       "      <th>Type</th>\n",
       "      <th>Price</th>\n",
       "      <th>Content Rating</th>\n",
       "      <th>Genres</th>\n",
       "      <th>Last Updated</th>\n",
       "      <th>Current Ver</th>\n",
       "      <th>Android Ver</th>\n",
       "      <th>date of last update</th>\n",
       "    </tr>\n",
       "  </thead>\n",
       "  <tbody>\n",
       "    <tr>\n",
       "      <th>0</th>\n",
       "      <td>Photo Editor &amp; Candy Camera &amp; Grid &amp; ScrapBook</td>\n",
       "      <td>ART_AND_DESIGN</td>\n",
       "      <td>4.1</td>\n",
       "      <td>159</td>\n",
       "      <td>19M</td>\n",
       "      <td>10,000+</td>\n",
       "      <td>Free</td>\n",
       "      <td>0</td>\n",
       "      <td>Everyone</td>\n",
       "      <td>Art &amp; Design</td>\n",
       "      <td>January 7, 2018</td>\n",
       "      <td>1.0.0</td>\n",
       "      <td>4.0.3 and up</td>\n",
       "      <td>2018-01-07</td>\n",
       "    </tr>\n",
       "    <tr>\n",
       "      <th>1</th>\n",
       "      <td>Coloring book moana</td>\n",
       "      <td>ART_AND_DESIGN</td>\n",
       "      <td>3.9</td>\n",
       "      <td>967</td>\n",
       "      <td>14M</td>\n",
       "      <td>500,000+</td>\n",
       "      <td>Free</td>\n",
       "      <td>0</td>\n",
       "      <td>Everyone</td>\n",
       "      <td>Art &amp; Design;Pretend Play</td>\n",
       "      <td>January 15, 2018</td>\n",
       "      <td>2.0.0</td>\n",
       "      <td>4.0.3 and up</td>\n",
       "      <td>2018-01-15</td>\n",
       "    </tr>\n",
       "    <tr>\n",
       "      <th>2</th>\n",
       "      <td>U Launcher Lite – FREE Live Cool Themes, Hide ...</td>\n",
       "      <td>ART_AND_DESIGN</td>\n",
       "      <td>4.7</td>\n",
       "      <td>87510</td>\n",
       "      <td>8.7M</td>\n",
       "      <td>5,000,000+</td>\n",
       "      <td>Free</td>\n",
       "      <td>0</td>\n",
       "      <td>Everyone</td>\n",
       "      <td>Art &amp; Design</td>\n",
       "      <td>August 1, 2018</td>\n",
       "      <td>1.2.4</td>\n",
       "      <td>4.0.3 and up</td>\n",
       "      <td>2018-08-01</td>\n",
       "    </tr>\n",
       "    <tr>\n",
       "      <th>3</th>\n",
       "      <td>Sketch - Draw &amp; Paint</td>\n",
       "      <td>ART_AND_DESIGN</td>\n",
       "      <td>4.5</td>\n",
       "      <td>215644</td>\n",
       "      <td>25M</td>\n",
       "      <td>50,000,000+</td>\n",
       "      <td>Free</td>\n",
       "      <td>0</td>\n",
       "      <td>Teen</td>\n",
       "      <td>Art &amp; Design</td>\n",
       "      <td>June 8, 2018</td>\n",
       "      <td>Varies with device</td>\n",
       "      <td>4.2 and up</td>\n",
       "      <td>2018-06-08</td>\n",
       "    </tr>\n",
       "    <tr>\n",
       "      <th>4</th>\n",
       "      <td>Pixel Draw - Number Art Coloring Book</td>\n",
       "      <td>ART_AND_DESIGN</td>\n",
       "      <td>4.3</td>\n",
       "      <td>967</td>\n",
       "      <td>2.8M</td>\n",
       "      <td>100,000+</td>\n",
       "      <td>Free</td>\n",
       "      <td>0</td>\n",
       "      <td>Everyone</td>\n",
       "      <td>Art &amp; Design;Creativity</td>\n",
       "      <td>June 20, 2018</td>\n",
       "      <td>1.1</td>\n",
       "      <td>4.4 and up</td>\n",
       "      <td>2018-06-20</td>\n",
       "    </tr>\n",
       "  </tbody>\n",
       "</table>\n",
       "</div>"
      ],
      "text/plain": [
       "                                                 App        Category  Rating  \\\n",
       "0     Photo Editor & Candy Camera & Grid & ScrapBook  ART_AND_DESIGN     4.1   \n",
       "1                                Coloring book moana  ART_AND_DESIGN     3.9   \n",
       "2  U Launcher Lite – FREE Live Cool Themes, Hide ...  ART_AND_DESIGN     4.7   \n",
       "3                              Sketch - Draw & Paint  ART_AND_DESIGN     4.5   \n",
       "4              Pixel Draw - Number Art Coloring Book  ART_AND_DESIGN     4.3   \n",
       "\n",
       "  Reviews  Size     Installs  Type Price Content Rating  \\\n",
       "0     159   19M      10,000+  Free     0       Everyone   \n",
       "1     967   14M     500,000+  Free     0       Everyone   \n",
       "2   87510  8.7M   5,000,000+  Free     0       Everyone   \n",
       "3  215644   25M  50,000,000+  Free     0           Teen   \n",
       "4     967  2.8M     100,000+  Free     0       Everyone   \n",
       "\n",
       "                      Genres      Last Updated         Current Ver  \\\n",
       "0               Art & Design   January 7, 2018               1.0.0   \n",
       "1  Art & Design;Pretend Play  January 15, 2018               2.0.0   \n",
       "2               Art & Design    August 1, 2018               1.2.4   \n",
       "3               Art & Design      June 8, 2018  Varies with device   \n",
       "4    Art & Design;Creativity     June 20, 2018                 1.1   \n",
       "\n",
       "    Android Ver date of last update  \n",
       "0  4.0.3 and up          2018-01-07  \n",
       "1  4.0.3 and up          2018-01-15  \n",
       "2  4.0.3 and up          2018-08-01  \n",
       "3    4.2 and up          2018-06-08  \n",
       "4    4.4 and up          2018-06-20  "
      ]
     },
     "execution_count": 69,
     "metadata": {},
     "output_type": "execute_result"
    }
   ],
   "source": [
    "import datetime\n",
    "df[\"date of last update\"]=pd.to_datetime(df[\"Last Updated\"])\n",
    "df.head()"
   ]
  },
  {
   "cell_type": "code",
   "execution_count": 70,
   "metadata": {
    "execution": {
     "iopub.execute_input": "2022-03-04T11:23:59.712469Z",
     "iopub.status.busy": "2022-03-04T11:23:59.712223Z",
     "iopub.status.idle": "2022-03-04T11:23:59.735766Z",
     "shell.execute_reply": "2022-03-04T11:23:59.734920Z",
     "shell.execute_reply.started": "2022-03-04T11:23:59.712441Z"
    }
   },
   "outputs": [
    {
     "data": {
      "text/html": [
       "<div>\n",
       "<style scoped>\n",
       "    .dataframe tbody tr th:only-of-type {\n",
       "        vertical-align: middle;\n",
       "    }\n",
       "\n",
       "    .dataframe tbody tr th {\n",
       "        vertical-align: top;\n",
       "    }\n",
       "\n",
       "    .dataframe thead th {\n",
       "        text-align: right;\n",
       "    }\n",
       "</style>\n",
       "<table border=\"1\" class=\"dataframe\">\n",
       "  <thead>\n",
       "    <tr style=\"text-align: right;\">\n",
       "      <th></th>\n",
       "      <th>App</th>\n",
       "      <th>Category</th>\n",
       "      <th>Rating</th>\n",
       "      <th>Reviews</th>\n",
       "      <th>Size</th>\n",
       "      <th>Installs</th>\n",
       "      <th>Type</th>\n",
       "      <th>Price</th>\n",
       "      <th>Content Rating</th>\n",
       "      <th>Genres</th>\n",
       "      <th>Last Updated</th>\n",
       "      <th>Current Ver</th>\n",
       "      <th>Android Ver</th>\n",
       "      <th>date of last update</th>\n",
       "    </tr>\n",
       "  </thead>\n",
       "  <tbody>\n",
       "    <tr>\n",
       "      <th>0</th>\n",
       "      <td>Photo Editor &amp; Candy Camera &amp; Grid &amp; ScrapBook</td>\n",
       "      <td>ART_AND_DESIGN</td>\n",
       "      <td>4.1</td>\n",
       "      <td>159</td>\n",
       "      <td>19M</td>\n",
       "      <td>10,000+</td>\n",
       "      <td>Free</td>\n",
       "      <td>0</td>\n",
       "      <td>Everyone</td>\n",
       "      <td>Art &amp; Design</td>\n",
       "      <td>January 7, 2018</td>\n",
       "      <td>1.0.0</td>\n",
       "      <td>4.0.3 and up</td>\n",
       "      <td>2018-01-07</td>\n",
       "    </tr>\n",
       "    <tr>\n",
       "      <th>1</th>\n",
       "      <td>Coloring book moana</td>\n",
       "      <td>ART_AND_DESIGN</td>\n",
       "      <td>3.9</td>\n",
       "      <td>967</td>\n",
       "      <td>14M</td>\n",
       "      <td>500,000+</td>\n",
       "      <td>Free</td>\n",
       "      <td>0</td>\n",
       "      <td>Everyone</td>\n",
       "      <td>Art &amp; Design;Pretend Play</td>\n",
       "      <td>January 15, 2018</td>\n",
       "      <td>2.0.0</td>\n",
       "      <td>4.0.3 and up</td>\n",
       "      <td>2018-01-15</td>\n",
       "    </tr>\n",
       "    <tr>\n",
       "      <th>2</th>\n",
       "      <td>U Launcher Lite – FREE Live Cool Themes, Hide ...</td>\n",
       "      <td>ART_AND_DESIGN</td>\n",
       "      <td>4.7</td>\n",
       "      <td>87510</td>\n",
       "      <td>8.7M</td>\n",
       "      <td>5,000,000+</td>\n",
       "      <td>Free</td>\n",
       "      <td>0</td>\n",
       "      <td>Everyone</td>\n",
       "      <td>Art &amp; Design</td>\n",
       "      <td>August 1, 2018</td>\n",
       "      <td>1.2.4</td>\n",
       "      <td>4.0.3 and up</td>\n",
       "      <td>2018-08-01</td>\n",
       "    </tr>\n",
       "    <tr>\n",
       "      <th>3</th>\n",
       "      <td>Sketch - Draw &amp; Paint</td>\n",
       "      <td>ART_AND_DESIGN</td>\n",
       "      <td>4.5</td>\n",
       "      <td>215644</td>\n",
       "      <td>25M</td>\n",
       "      <td>50,000,000+</td>\n",
       "      <td>Free</td>\n",
       "      <td>0</td>\n",
       "      <td>Teen</td>\n",
       "      <td>Art &amp; Design</td>\n",
       "      <td>June 8, 2018</td>\n",
       "      <td>Varies with device</td>\n",
       "      <td>4.2 and up</td>\n",
       "      <td>2018-06-08</td>\n",
       "    </tr>\n",
       "    <tr>\n",
       "      <th>4</th>\n",
       "      <td>Pixel Draw - Number Art Coloring Book</td>\n",
       "      <td>ART_AND_DESIGN</td>\n",
       "      <td>4.3</td>\n",
       "      <td>967</td>\n",
       "      <td>2.8M</td>\n",
       "      <td>100,000+</td>\n",
       "      <td>Free</td>\n",
       "      <td>0</td>\n",
       "      <td>Everyone</td>\n",
       "      <td>Art &amp; Design;Creativity</td>\n",
       "      <td>June 20, 2018</td>\n",
       "      <td>1.1</td>\n",
       "      <td>4.4 and up</td>\n",
       "      <td>2018-06-20</td>\n",
       "    </tr>\n",
       "  </tbody>\n",
       "</table>\n",
       "</div>"
      ],
      "text/plain": [
       "                                                 App        Category  Rating  \\\n",
       "0     Photo Editor & Candy Camera & Grid & ScrapBook  ART_AND_DESIGN     4.1   \n",
       "1                                Coloring book moana  ART_AND_DESIGN     3.9   \n",
       "2  U Launcher Lite – FREE Live Cool Themes, Hide ...  ART_AND_DESIGN     4.7   \n",
       "3                              Sketch - Draw & Paint  ART_AND_DESIGN     4.5   \n",
       "4              Pixel Draw - Number Art Coloring Book  ART_AND_DESIGN     4.3   \n",
       "\n",
       "  Reviews  Size     Installs  Type Price Content Rating  \\\n",
       "0     159   19M      10,000+  Free     0       Everyone   \n",
       "1     967   14M     500,000+  Free     0       Everyone   \n",
       "2   87510  8.7M   5,000,000+  Free     0       Everyone   \n",
       "3  215644   25M  50,000,000+  Free     0           Teen   \n",
       "4     967  2.8M     100,000+  Free     0       Everyone   \n",
       "\n",
       "                      Genres      Last Updated         Current Ver  \\\n",
       "0               Art & Design   January 7, 2018               1.0.0   \n",
       "1  Art & Design;Pretend Play  January 15, 2018               2.0.0   \n",
       "2               Art & Design    August 1, 2018               1.2.4   \n",
       "3               Art & Design      June 8, 2018  Varies with device   \n",
       "4    Art & Design;Creativity     June 20, 2018                 1.1   \n",
       "\n",
       "    Android Ver date of last update  \n",
       "0  4.0.3 and up          2018-01-07  \n",
       "1  4.0.3 and up          2018-01-15  \n",
       "2  4.0.3 and up          2018-08-01  \n",
       "3    4.2 and up          2018-06-08  \n",
       "4    4.4 and up          2018-06-20  "
      ]
     },
     "execution_count": 70,
     "metadata": {},
     "output_type": "execute_result"
    }
   ],
   "source": [
    "df.drop(\"Last Updated\",axis=1)\n",
    "df.head()"
   ]
  },
  {
   "cell_type": "code",
   "execution_count": 71,
   "metadata": {
    "execution": {
     "iopub.execute_input": "2022-03-04T11:23:59.737311Z",
     "iopub.status.busy": "2022-03-04T11:23:59.737042Z",
     "iopub.status.idle": "2022-03-04T11:23:59.899625Z",
     "shell.execute_reply": "2022-03-04T11:23:59.898590Z",
     "shell.execute_reply.started": "2022-03-04T11:23:59.737276Z"
    }
   },
   "outputs": [],
   "source": [
    "from sklearn.preprocessing import StandardScaler \n",
    "from sklearn.preprocessing import OrdinalEncoder"
   ]
  },
  {
   "cell_type": "code",
   "execution_count": 72,
   "metadata": {
    "execution": {
     "iopub.execute_input": "2022-03-04T11:23:59.901177Z",
     "iopub.status.busy": "2022-03-04T11:23:59.900851Z",
     "iopub.status.idle": "2022-03-04T11:23:59.949004Z",
     "shell.execute_reply": "2022-03-04T11:23:59.948227Z",
     "shell.execute_reply.started": "2022-03-04T11:23:59.901135Z"
    }
   },
   "outputs": [
    {
     "name": "stdout",
     "output_type": "stream",
     "text": [
      "<class 'pandas.core.frame.DataFrame'>\n",
      "RangeIndex: 10841 entries, 0 to 10840\n",
      "Data columns (total 14 columns):\n",
      " #   Column               Non-Null Count  Dtype         \n",
      "---  ------               --------------  -----         \n",
      " 0   App                  10841 non-null  object        \n",
      " 1   Category             10840 non-null  object        \n",
      " 2   Rating               9367 non-null   float64       \n",
      " 3   Reviews              10841 non-null  object        \n",
      " 4   Size                 10841 non-null  object        \n",
      " 5   Installs             10841 non-null  object        \n",
      " 6   Type                 10840 non-null  object        \n",
      " 7   Price                10841 non-null  object        \n",
      " 8   Content Rating       10841 non-null  object        \n",
      " 9   Genres               10840 non-null  object        \n",
      " 10  Last Updated         10841 non-null  object        \n",
      " 11  Current Ver          10833 non-null  object        \n",
      " 12  Android Ver          10838 non-null  object        \n",
      " 13  date of last update  10841 non-null  datetime64[ns]\n",
      "dtypes: datetime64[ns](1), float64(1), object(12)\n",
      "memory usage: 1.2+ MB\n"
     ]
    },
    {
     "data": {
      "text/html": [
       "<div>\n",
       "<style scoped>\n",
       "    .dataframe tbody tr th:only-of-type {\n",
       "        vertical-align: middle;\n",
       "    }\n",
       "\n",
       "    .dataframe tbody tr th {\n",
       "        vertical-align: top;\n",
       "    }\n",
       "\n",
       "    .dataframe thead th {\n",
       "        text-align: right;\n",
       "    }\n",
       "</style>\n",
       "<table border=\"1\" class=\"dataframe\">\n",
       "  <thead>\n",
       "    <tr style=\"text-align: right;\">\n",
       "      <th></th>\n",
       "      <th>App</th>\n",
       "      <th>Category</th>\n",
       "      <th>Rating</th>\n",
       "      <th>Reviews</th>\n",
       "      <th>Size</th>\n",
       "      <th>Installs</th>\n",
       "      <th>Type</th>\n",
       "      <th>Price</th>\n",
       "      <th>Content Rating</th>\n",
       "      <th>Genres</th>\n",
       "      <th>Last Updated</th>\n",
       "      <th>Current Ver</th>\n",
       "      <th>Android Ver</th>\n",
       "      <th>date of last update</th>\n",
       "    </tr>\n",
       "  </thead>\n",
       "  <tbody>\n",
       "    <tr>\n",
       "      <th>0</th>\n",
       "      <td>Photo Editor &amp; Candy Camera &amp; Grid &amp; ScrapBook</td>\n",
       "      <td>ART_AND_DESIGN</td>\n",
       "      <td>4.1</td>\n",
       "      <td>159</td>\n",
       "      <td>19M</td>\n",
       "      <td>10,000+</td>\n",
       "      <td>Free</td>\n",
       "      <td>0</td>\n",
       "      <td>Everyone</td>\n",
       "      <td>Art &amp; Design</td>\n",
       "      <td>January 7, 2018</td>\n",
       "      <td>1.0.0</td>\n",
       "      <td>4.0.3 and up</td>\n",
       "      <td>2018-01-07</td>\n",
       "    </tr>\n",
       "    <tr>\n",
       "      <th>1</th>\n",
       "      <td>Coloring book moana</td>\n",
       "      <td>ART_AND_DESIGN</td>\n",
       "      <td>3.9</td>\n",
       "      <td>967</td>\n",
       "      <td>14M</td>\n",
       "      <td>500,000+</td>\n",
       "      <td>Free</td>\n",
       "      <td>0</td>\n",
       "      <td>Everyone</td>\n",
       "      <td>Art &amp; Design;Pretend Play</td>\n",
       "      <td>January 15, 2018</td>\n",
       "      <td>2.0.0</td>\n",
       "      <td>4.0.3 and up</td>\n",
       "      <td>2018-01-15</td>\n",
       "    </tr>\n",
       "    <tr>\n",
       "      <th>2</th>\n",
       "      <td>U Launcher Lite – FREE Live Cool Themes, Hide ...</td>\n",
       "      <td>ART_AND_DESIGN</td>\n",
       "      <td>4.7</td>\n",
       "      <td>87510</td>\n",
       "      <td>8.7M</td>\n",
       "      <td>5,000,000+</td>\n",
       "      <td>Free</td>\n",
       "      <td>0</td>\n",
       "      <td>Everyone</td>\n",
       "      <td>Art &amp; Design</td>\n",
       "      <td>August 1, 2018</td>\n",
       "      <td>1.2.4</td>\n",
       "      <td>4.0.3 and up</td>\n",
       "      <td>2018-08-01</td>\n",
       "    </tr>\n",
       "    <tr>\n",
       "      <th>3</th>\n",
       "      <td>Sketch - Draw &amp; Paint</td>\n",
       "      <td>ART_AND_DESIGN</td>\n",
       "      <td>4.5</td>\n",
       "      <td>215644</td>\n",
       "      <td>25M</td>\n",
       "      <td>50,000,000+</td>\n",
       "      <td>Free</td>\n",
       "      <td>0</td>\n",
       "      <td>Teen</td>\n",
       "      <td>Art &amp; Design</td>\n",
       "      <td>June 8, 2018</td>\n",
       "      <td>Varies with device</td>\n",
       "      <td>4.2 and up</td>\n",
       "      <td>2018-06-08</td>\n",
       "    </tr>\n",
       "    <tr>\n",
       "      <th>4</th>\n",
       "      <td>Pixel Draw - Number Art Coloring Book</td>\n",
       "      <td>ART_AND_DESIGN</td>\n",
       "      <td>4.3</td>\n",
       "      <td>967</td>\n",
       "      <td>2.8M</td>\n",
       "      <td>100,000+</td>\n",
       "      <td>Free</td>\n",
       "      <td>0</td>\n",
       "      <td>Everyone</td>\n",
       "      <td>Art &amp; Design;Creativity</td>\n",
       "      <td>June 20, 2018</td>\n",
       "      <td>1.1</td>\n",
       "      <td>4.4 and up</td>\n",
       "      <td>2018-06-20</td>\n",
       "    </tr>\n",
       "  </tbody>\n",
       "</table>\n",
       "</div>"
      ],
      "text/plain": [
       "                                                 App        Category  Rating  \\\n",
       "0     Photo Editor & Candy Camera & Grid & ScrapBook  ART_AND_DESIGN     4.1   \n",
       "1                                Coloring book moana  ART_AND_DESIGN     3.9   \n",
       "2  U Launcher Lite – FREE Live Cool Themes, Hide ...  ART_AND_DESIGN     4.7   \n",
       "3                              Sketch - Draw & Paint  ART_AND_DESIGN     4.5   \n",
       "4              Pixel Draw - Number Art Coloring Book  ART_AND_DESIGN     4.3   \n",
       "\n",
       "  Reviews  Size     Installs  Type Price Content Rating  \\\n",
       "0     159   19M      10,000+  Free     0       Everyone   \n",
       "1     967   14M     500,000+  Free     0       Everyone   \n",
       "2   87510  8.7M   5,000,000+  Free     0       Everyone   \n",
       "3  215644   25M  50,000,000+  Free     0           Teen   \n",
       "4     967  2.8M     100,000+  Free     0       Everyone   \n",
       "\n",
       "                      Genres      Last Updated         Current Ver  \\\n",
       "0               Art & Design   January 7, 2018               1.0.0   \n",
       "1  Art & Design;Pretend Play  January 15, 2018               2.0.0   \n",
       "2               Art & Design    August 1, 2018               1.2.4   \n",
       "3               Art & Design      June 8, 2018  Varies with device   \n",
       "4    Art & Design;Creativity     June 20, 2018                 1.1   \n",
       "\n",
       "    Android Ver date of last update  \n",
       "0  4.0.3 and up          2018-01-07  \n",
       "1  4.0.3 and up          2018-01-15  \n",
       "2  4.0.3 and up          2018-08-01  \n",
       "3    4.2 and up          2018-06-08  \n",
       "4    4.4 and up          2018-06-20  "
      ]
     },
     "execution_count": 72,
     "metadata": {},
     "output_type": "execute_result"
    }
   ],
   "source": [
    "df.info()\n",
    "df.head()"
   ]
  },
  {
   "cell_type": "code",
   "execution_count": 73,
   "metadata": {
    "execution": {
     "iopub.execute_input": "2022-03-04T11:23:59.952070Z",
     "iopub.status.busy": "2022-03-04T11:23:59.951678Z",
     "iopub.status.idle": "2022-03-04T11:23:59.962972Z",
     "shell.execute_reply": "2022-03-04T11:23:59.962309Z",
     "shell.execute_reply.started": "2022-03-04T11:23:59.952019Z"
    }
   },
   "outputs": [
    {
     "data": {
      "text/plain": [
       "FAMILY                 1972\n",
       "GAME                   1144\n",
       "TOOLS                   843\n",
       "MEDICAL                 463\n",
       "BUSINESS                460\n",
       "PRODUCTIVITY            424\n",
       "PERSONALIZATION         392\n",
       "COMMUNICATION           387\n",
       "SPORTS                  384\n",
       "LIFESTYLE               382\n",
       "FINANCE                 366\n",
       "HEALTH_AND_FITNESS      341\n",
       "PHOTOGRAPHY             335\n",
       "SOCIAL                  295\n",
       "NEWS_AND_MAGAZINES      283\n",
       "SHOPPING                260\n",
       "TRAVEL_AND_LOCAL        258\n",
       "DATING                  234\n",
       "BOOKS_AND_REFERENCE     231\n",
       "VIDEO_PLAYERS           175\n",
       "EDUCATION               156\n",
       "ENTERTAINMENT           149\n",
       "MAPS_AND_NAVIGATION     137\n",
       "FOOD_AND_DRINK          127\n",
       "HOUSE_AND_HOME           88\n",
       "LIBRARIES_AND_DEMO       85\n",
       "AUTO_AND_VEHICLES        85\n",
       "WEATHER                  82\n",
       "ART_AND_DESIGN           65\n",
       "EVENTS                   64\n",
       "COMICS                   60\n",
       "PARENTING                60\n",
       "BEAUTY                   53\n",
       "Name: Category, dtype: int64"
      ]
     },
     "execution_count": 73,
     "metadata": {},
     "output_type": "execute_result"
    }
   ],
   "source": [
    "df.Category.value_counts()"
   ]
  },
  {
   "cell_type": "code",
   "execution_count": 74,
   "metadata": {
    "execution": {
     "iopub.execute_input": "2022-03-04T11:23:59.964492Z",
     "iopub.status.busy": "2022-03-04T11:23:59.964094Z",
     "iopub.status.idle": "2022-03-04T11:24:00.444105Z",
     "shell.execute_reply": "2022-03-04T11:24:00.442828Z",
     "shell.execute_reply.started": "2022-03-04T11:23:59.964455Z"
    }
   },
   "outputs": [
    {
     "data": {
      "image/png": "[encoded data removed]",
      "text/plain": [
       "<Figure size 720x720 with 1 Axes>"
      ]
     },
     "metadata": {
      "needs_background": "light"
     },
     "output_type": "display_data"
    }
   ],
   "source": [
    "plt.figure(figsize=(10,10))\n",
    "sns.countplot(y=df[\"Category\"],data=df,)\n",
    "plt.show()"
   ]
  },
  {
   "cell_type": "code",
   "execution_count": 75,
   "metadata": {
    "execution": {
     "iopub.execute_input": "2022-03-04T11:24:00.446431Z",
     "iopub.status.busy": "2022-03-04T11:24:00.445868Z",
     "iopub.status.idle": "2022-03-04T11:24:00.464788Z",
     "shell.execute_reply": "2022-03-04T11:24:00.463660Z",
     "shell.execute_reply.started": "2022-03-04T11:24:00.446380Z"
    }
   },
   "outputs": [
    {
     "data": {
      "text/plain": [
       "Free    10040\n",
       "Paid      800\n",
       "Name: Type, dtype: int64"
      ]
     },
     "execution_count": 75,
     "metadata": {},
     "output_type": "execute_result"
    }
   ],
   "source": [
    "df[\"Type\"].value_counts()"
   ]
  },
  {
   "cell_type": "code",
   "execution_count": 76,
   "metadata": {
    "execution": {
     "iopub.execute_input": "2022-03-04T11:24:00.467016Z",
     "iopub.status.busy": "2022-03-04T11:24:00.466531Z",
     "iopub.status.idle": "2022-03-04T11:24:00.670870Z",
     "shell.execute_reply": "2022-03-04T11:24:00.670085Z",
     "shell.execute_reply.started": "2022-03-04T11:24:00.466969Z"
    }
   },
   "outputs": [
    {
     "data": {
      "image/png": "[encoded data removed]",
      "text/plain": [
       "<Figure size 432x288 with 1 Axes>"
      ]
     },
     "metadata": {
      "needs_background": "light"
     },
     "output_type": "display_data"
    }
   ],
   "source": [
    "sns.countplot(x=df[\"Type\"],data=df)\n",
    "plt.grid(True)"
   ]
  },
  {
   "cell_type": "code",
   "execution_count": 77,
   "metadata": {
    "execution": {
     "iopub.execute_input": "2022-03-04T11:24:00.672639Z",
     "iopub.status.busy": "2022-03-04T11:24:00.672175Z",
     "iopub.status.idle": "2022-03-04T11:24:00.690829Z",
     "shell.execute_reply": "2022-03-04T11:24:00.689629Z",
     "shell.execute_reply.started": "2022-03-04T11:24:00.672598Z"
    }
   },
   "outputs": [],
   "source": [
    "df[\"Size\"]=df.Size.apply(lambda x:x.strip(\"+\"))\n",
    "df[\"Size\"]=df.Size.apply(lambda x:x.replace(',',''))\n",
    "df[\"Size\"]=df.Size.apply(lambda x:x.replace(\",\",\"\"))\n"
   ]
  },
  {
   "cell_type": "code",
   "execution_count": 78,
   "metadata": {
    "execution": {
     "iopub.execute_input": "2022-03-04T11:24:00.692609Z",
     "iopub.status.busy": "2022-03-04T11:24:00.692132Z",
     "iopub.status.idle": "2022-03-04T11:24:00.709928Z",
     "shell.execute_reply": "2022-03-04T11:24:00.709197Z",
     "shell.execute_reply.started": "2022-03-04T11:24:00.692571Z"
    }
   },
   "outputs": [],
   "source": [
    "df[\"Size\"]=df.Size.apply(lambda x:x.replace(\"M\",\"e+6\"))\n",
    "df[\"Size\"]=df.Size.apply(lambda x:x.replace(\"k\",'e+3'))\n",
    "df[\"Size\"]=df.Size.replace('Varies with device',np.NaN)"
   ]
  },
  {
   "cell_type": "code",
   "execution_count": 79,
   "metadata": {
    "execution": {
     "iopub.execute_input": "2022-03-04T11:24:00.713810Z",
     "iopub.status.busy": "2022-03-04T11:24:00.713512Z",
     "iopub.status.idle": "2022-03-04T11:24:00.725716Z",
     "shell.execute_reply": "2022-03-04T11:24:00.724699Z",
     "shell.execute_reply.started": "2022-03-04T11:24:00.713777Z"
    }
   },
   "outputs": [],
   "source": [
    "df[\"Size\"]=pd.to_numeric(df[\"Size\"])"
   ]
  },
  {
   "cell_type": "code",
   "execution_count": 80,
   "metadata": {
    "execution": {
     "iopub.execute_input": "2022-03-04T11:24:00.727108Z",
     "iopub.status.busy": "2022-03-04T11:24:00.726857Z",
     "iopub.status.idle": "2022-03-04T11:24:00.769653Z",
     "shell.execute_reply": "2022-03-04T11:24:00.768610Z",
     "shell.execute_reply.started": "2022-03-04T11:24:00.727076Z"
    }
   },
   "outputs": [
    {
     "name": "stdout",
     "output_type": "stream",
     "text": [
      "<class 'pandas.core.frame.DataFrame'>\n",
      "RangeIndex: 10841 entries, 0 to 10840\n",
      "Data columns (total 14 columns):\n",
      " #   Column               Non-Null Count  Dtype         \n",
      "---  ------               --------------  -----         \n",
      " 0   App                  10841 non-null  object        \n",
      " 1   Category             10840 non-null  object        \n",
      " 2   Rating               9367 non-null   float64       \n",
      " 3   Reviews              10841 non-null  int32         \n",
      " 4   Size                 9146 non-null   float64       \n",
      " 5   Installs             10841 non-null  object        \n",
      " 6   Type                 10840 non-null  object        \n",
      " 7   Price                10841 non-null  object        \n",
      " 8   Content Rating       10841 non-null  object        \n",
      " 9   Genres               10840 non-null  object        \n",
      " 10  Last Updated         10841 non-null  object        \n",
      " 11  Current Ver          10833 non-null  object        \n",
      " 12  Android Ver          10838 non-null  object        \n",
      " 13  date of last update  10841 non-null  datetime64[ns]\n",
      "dtypes: datetime64[ns](1), float64(2), int32(1), object(10)\n",
      "memory usage: 1.1+ MB\n"
     ]
    }
   ],
   "source": [
    "df[\"Reviews\"]=df[\"Reviews\"].astype(int)\n",
    "df.info()"
   ]
  },
  {
   "cell_type": "code",
   "execution_count": 81,
   "metadata": {
    "execution": {
     "iopub.execute_input": "2022-03-04T11:24:00.771630Z",
     "iopub.status.busy": "2022-03-04T11:24:00.771046Z",
     "iopub.status.idle": "2022-03-04T11:24:00.791295Z",
     "shell.execute_reply": "2022-03-04T11:24:00.790364Z",
     "shell.execute_reply.started": "2022-03-04T11:24:00.771592Z"
    }
   },
   "outputs": [
    {
     "data": {
      "text/html": [
       "<div>\n",
       "<style scoped>\n",
       "    .dataframe tbody tr th:only-of-type {\n",
       "        vertical-align: middle;\n",
       "    }\n",
       "\n",
       "    .dataframe tbody tr th {\n",
       "        vertical-align: top;\n",
       "    }\n",
       "\n",
       "    .dataframe thead th {\n",
       "        text-align: right;\n",
       "    }\n",
       "</style>\n",
       "<table border=\"1\" class=\"dataframe\">\n",
       "  <thead>\n",
       "    <tr style=\"text-align: right;\">\n",
       "      <th></th>\n",
       "      <th>App</th>\n",
       "      <th>Category</th>\n",
       "      <th>Rating</th>\n",
       "      <th>Reviews</th>\n",
       "      <th>Size</th>\n",
       "      <th>Installs</th>\n",
       "      <th>Type</th>\n",
       "      <th>Price</th>\n",
       "      <th>Content Rating</th>\n",
       "      <th>Genres</th>\n",
       "      <th>Last Updated</th>\n",
       "      <th>Current Ver</th>\n",
       "      <th>Android Ver</th>\n",
       "      <th>date of last update</th>\n",
       "    </tr>\n",
       "  </thead>\n",
       "  <tbody>\n",
       "    <tr>\n",
       "      <th>0</th>\n",
       "      <td>Photo Editor &amp; Candy Camera &amp; Grid &amp; ScrapBook</td>\n",
       "      <td>ART_AND_DESIGN</td>\n",
       "      <td>4.1</td>\n",
       "      <td>159</td>\n",
       "      <td>19000000.0</td>\n",
       "      <td>10,000+</td>\n",
       "      <td>Free</td>\n",
       "      <td>0</td>\n",
       "      <td>Everyone</td>\n",
       "      <td>Art &amp; Design</td>\n",
       "      <td>January 7, 2018</td>\n",
       "      <td>1.0.0</td>\n",
       "      <td>4.0.3 and up</td>\n",
       "      <td>2018-01-07</td>\n",
       "    </tr>\n",
       "    <tr>\n",
       "      <th>1</th>\n",
       "      <td>Coloring book moana</td>\n",
       "      <td>ART_AND_DESIGN</td>\n",
       "      <td>3.9</td>\n",
       "      <td>967</td>\n",
       "      <td>14000000.0</td>\n",
       "      <td>500,000+</td>\n",
       "      <td>Free</td>\n",
       "      <td>0</td>\n",
       "      <td>Everyone</td>\n",
       "      <td>Art &amp; Design;Pretend Play</td>\n",
       "      <td>January 15, 2018</td>\n",
       "      <td>2.0.0</td>\n",
       "      <td>4.0.3 and up</td>\n",
       "      <td>2018-01-15</td>\n",
       "    </tr>\n",
       "    <tr>\n",
       "      <th>2</th>\n",
       "      <td>U Launcher Lite – FREE Live Cool Themes, Hide ...</td>\n",
       "      <td>ART_AND_DESIGN</td>\n",
       "      <td>4.7</td>\n",
       "      <td>87510</td>\n",
       "      <td>8700000.0</td>\n",
       "      <td>5,000,000+</td>\n",
       "      <td>Free</td>\n",
       "      <td>0</td>\n",
       "      <td>Everyone</td>\n",
       "      <td>Art &amp; Design</td>\n",
       "      <td>August 1, 2018</td>\n",
       "      <td>1.2.4</td>\n",
       "      <td>4.0.3 and up</td>\n",
       "      <td>2018-08-01</td>\n",
       "    </tr>\n",
       "    <tr>\n",
       "      <th>3</th>\n",
       "      <td>Sketch - Draw &amp; Paint</td>\n",
       "      <td>ART_AND_DESIGN</td>\n",
       "      <td>4.5</td>\n",
       "      <td>215644</td>\n",
       "      <td>25000000.0</td>\n",
       "      <td>50,000,000+</td>\n",
       "      <td>Free</td>\n",
       "      <td>0</td>\n",
       "      <td>Teen</td>\n",
       "      <td>Art &amp; Design</td>\n",
       "      <td>June 8, 2018</td>\n",
       "      <td>Varies with device</td>\n",
       "      <td>4.2 and up</td>\n",
       "      <td>2018-06-08</td>\n",
       "    </tr>\n",
       "    <tr>\n",
       "      <th>4</th>\n",
       "      <td>Pixel Draw - Number Art Coloring Book</td>\n",
       "      <td>ART_AND_DESIGN</td>\n",
       "      <td>4.3</td>\n",
       "      <td>967</td>\n",
       "      <td>2800000.0</td>\n",
       "      <td>100,000+</td>\n",
       "      <td>Free</td>\n",
       "      <td>0</td>\n",
       "      <td>Everyone</td>\n",
       "      <td>Art &amp; Design;Creativity</td>\n",
       "      <td>June 20, 2018</td>\n",
       "      <td>1.1</td>\n",
       "      <td>4.4 and up</td>\n",
       "      <td>2018-06-20</td>\n",
       "    </tr>\n",
       "  </tbody>\n",
       "</table>\n",
       "</div>"
      ],
      "text/plain": [
       "                                                 App        Category  Rating  \\\n",
       "0     Photo Editor & Candy Camera & Grid & ScrapBook  ART_AND_DESIGN     4.1   \n",
       "1                                Coloring book moana  ART_AND_DESIGN     3.9   \n",
       "2  U Launcher Lite – FREE Live Cool Themes, Hide ...  ART_AND_DESIGN     4.7   \n",
       "3                              Sketch - Draw & Paint  ART_AND_DESIGN     4.5   \n",
       "4              Pixel Draw - Number Art Coloring Book  ART_AND_DESIGN     4.3   \n",
       "\n",
       "   Reviews        Size     Installs  Type Price Content Rating  \\\n",
       "0      159  19000000.0      10,000+  Free     0       Everyone   \n",
       "1      967  14000000.0     500,000+  Free     0       Everyone   \n",
       "2    87510   8700000.0   5,000,000+  Free     0       Everyone   \n",
       "3   215644  25000000.0  50,000,000+  Free     0           Teen   \n",
       "4      967   2800000.0     100,000+  Free     0       Everyone   \n",
       "\n",
       "                      Genres      Last Updated         Current Ver  \\\n",
       "0               Art & Design   January 7, 2018               1.0.0   \n",
       "1  Art & Design;Pretend Play  January 15, 2018               2.0.0   \n",
       "2               Art & Design    August 1, 2018               1.2.4   \n",
       "3               Art & Design      June 8, 2018  Varies with device   \n",
       "4    Art & Design;Creativity     June 20, 2018                 1.1   \n",
       "\n",
       "    Android Ver date of last update  \n",
       "0  4.0.3 and up          2018-01-07  \n",
       "1  4.0.3 and up          2018-01-15  \n",
       "2  4.0.3 and up          2018-08-01  \n",
       "3    4.2 and up          2018-06-08  \n",
       "4    4.4 and up          2018-06-20  "
      ]
     },
     "execution_count": 81,
     "metadata": {},
     "output_type": "execute_result"
    }
   ],
   "source": [
    "df.head()"
   ]
  },
  {
   "cell_type": "code",
   "execution_count": 82,
   "metadata": {
    "execution": {
     "iopub.execute_input": "2022-03-04T11:24:00.793214Z",
     "iopub.status.busy": "2022-03-04T11:24:00.792705Z",
     "iopub.status.idle": "2022-03-04T11:24:00.811345Z",
     "shell.execute_reply": "2022-03-04T11:24:00.810238Z",
     "shell.execute_reply.started": "2022-03-04T11:24:00.793167Z"
    }
   },
   "outputs": [],
   "source": [
    "df.drop(\"Last Updated\",1,inplace=True)"
   ]
  },
  {
   "cell_type": "code",
   "execution_count": 83,
   "metadata": {
    "execution": {
     "iopub.execute_input": "2022-03-04T11:24:00.813926Z",
     "iopub.status.busy": "2022-03-04T11:24:00.812983Z",
     "iopub.status.idle": "2022-03-04T11:24:00.853026Z",
     "shell.execute_reply": "2022-03-04T11:24:00.852043Z",
     "shell.execute_reply.started": "2022-03-04T11:24:00.813868Z"
    }
   },
   "outputs": [
    {
     "name": "stdout",
     "output_type": "stream",
     "text": [
      "<class 'pandas.core.frame.DataFrame'>\n",
      "Int64Index: 7723 entries, 0 to 10840\n",
      "Data columns (total 13 columns):\n",
      " #   Column               Non-Null Count  Dtype         \n",
      "---  ------               --------------  -----         \n",
      " 0   App                  7723 non-null   object        \n",
      " 1   Category             7723 non-null   object        \n",
      " 2   Rating               7723 non-null   float64       \n",
      " 3   Reviews              7723 non-null   int32         \n",
      " 4   Size                 7723 non-null   float64       \n",
      " 5   Installs             7723 non-null   object        \n",
      " 6   Type                 7723 non-null   object        \n",
      " 7   Price                7723 non-null   object        \n",
      " 8   Content Rating       7723 non-null   object        \n",
      " 9   Genres               7723 non-null   object        \n",
      " 10  Current Ver          7723 non-null   object        \n",
      " 11  Android Ver          7723 non-null   object        \n",
      " 12  date of last update  7723 non-null   datetime64[ns]\n",
      "dtypes: datetime64[ns](1), float64(2), int32(1), object(9)\n",
      "memory usage: 814.5+ KB\n"
     ]
    }
   ],
   "source": [
    "df.dropna(inplace=True)\n",
    "df.info()"
   ]
  },
  {
   "cell_type": "code",
   "execution_count": 84,
   "metadata": {
    "execution": {
     "iopub.execute_input": "2022-03-04T11:24:00.855375Z",
     "iopub.status.busy": "2022-03-04T11:24:00.854650Z",
     "iopub.status.idle": "2022-03-04T11:24:00.893225Z",
     "shell.execute_reply": "2022-03-04T11:24:00.892177Z",
     "shell.execute_reply.started": "2022-03-04T11:24:00.855319Z"
    }
   },
   "outputs": [
    {
     "data": {
      "text/html": [
       "<div>\n",
       "<style scoped>\n",
       "    .dataframe tbody tr th:only-of-type {\n",
       "        vertical-align: middle;\n",
       "    }\n",
       "\n",
       "    .dataframe tbody tr th {\n",
       "        vertical-align: top;\n",
       "    }\n",
       "\n",
       "    .dataframe thead th {\n",
       "        text-align: right;\n",
       "    }\n",
       "</style>\n",
       "<table border=\"1\" class=\"dataframe\">\n",
       "  <thead>\n",
       "    <tr style=\"text-align: right;\">\n",
       "      <th></th>\n",
       "      <th>App</th>\n",
       "      <th>Category</th>\n",
       "      <th>Rating</th>\n",
       "      <th>Reviews</th>\n",
       "      <th>Size</th>\n",
       "      <th>Installs</th>\n",
       "      <th>Type</th>\n",
       "      <th>Price</th>\n",
       "      <th>Content Rating</th>\n",
       "      <th>Genres</th>\n",
       "      <th>Current Ver</th>\n",
       "      <th>Android Ver</th>\n",
       "      <th>date of last update</th>\n",
       "      <th>enc_Category</th>\n",
       "      <th>enc_Genres</th>\n",
       "    </tr>\n",
       "  </thead>\n",
       "  <tbody>\n",
       "    <tr>\n",
       "      <th>10833</th>\n",
       "      <td>Chemin (fr)</td>\n",
       "      <td>BOOKS_AND_REFERENCE</td>\n",
       "      <td>4.8</td>\n",
       "      <td>44</td>\n",
       "      <td>619000.0</td>\n",
       "      <td>1,000+</td>\n",
       "      <td>Free</td>\n",
       "      <td>0</td>\n",
       "      <td>Everyone</td>\n",
       "      <td>Books &amp; Reference</td>\n",
       "      <td>0.8</td>\n",
       "      <td>2.2 and up</td>\n",
       "      <td>2014-03-23</td>\n",
       "      <td>3.0</td>\n",
       "      <td>18.0</td>\n",
       "    </tr>\n",
       "    <tr>\n",
       "      <th>10834</th>\n",
       "      <td>FR Calculator</td>\n",
       "      <td>FAMILY</td>\n",
       "      <td>4.0</td>\n",
       "      <td>7</td>\n",
       "      <td>2600000.0</td>\n",
       "      <td>500+</td>\n",
       "      <td>Free</td>\n",
       "      <td>0</td>\n",
       "      <td>Everyone</td>\n",
       "      <td>Education</td>\n",
       "      <td>1.0.0</td>\n",
       "      <td>4.1 and up</td>\n",
       "      <td>2017-06-18</td>\n",
       "      <td>11.0</td>\n",
       "      <td>36.0</td>\n",
       "    </tr>\n",
       "    <tr>\n",
       "      <th>10836</th>\n",
       "      <td>Sya9a Maroc - FR</td>\n",
       "      <td>FAMILY</td>\n",
       "      <td>4.5</td>\n",
       "      <td>38</td>\n",
       "      <td>53000000.0</td>\n",
       "      <td>5,000+</td>\n",
       "      <td>Free</td>\n",
       "      <td>0</td>\n",
       "      <td>Everyone</td>\n",
       "      <td>Education</td>\n",
       "      <td>1.48</td>\n",
       "      <td>4.1 and up</td>\n",
       "      <td>2017-07-25</td>\n",
       "      <td>11.0</td>\n",
       "      <td>36.0</td>\n",
       "    </tr>\n",
       "    <tr>\n",
       "      <th>10837</th>\n",
       "      <td>Fr. Mike Schmitz Audio Teachings</td>\n",
       "      <td>FAMILY</td>\n",
       "      <td>5.0</td>\n",
       "      <td>4</td>\n",
       "      <td>3600000.0</td>\n",
       "      <td>100+</td>\n",
       "      <td>Free</td>\n",
       "      <td>0</td>\n",
       "      <td>Everyone</td>\n",
       "      <td>Education</td>\n",
       "      <td>1.0</td>\n",
       "      <td>4.1 and up</td>\n",
       "      <td>2018-07-06</td>\n",
       "      <td>11.0</td>\n",
       "      <td>36.0</td>\n",
       "    </tr>\n",
       "    <tr>\n",
       "      <th>10840</th>\n",
       "      <td>iHoroscope - 2018 Daily Horoscope &amp; Astrology</td>\n",
       "      <td>LIFESTYLE</td>\n",
       "      <td>4.5</td>\n",
       "      <td>398307</td>\n",
       "      <td>19000000.0</td>\n",
       "      <td>10,000,000+</td>\n",
       "      <td>Free</td>\n",
       "      <td>0</td>\n",
       "      <td>Everyone</td>\n",
       "      <td>Lifestyle</td>\n",
       "      <td>Varies with device</td>\n",
       "      <td>Varies with device</td>\n",
       "      <td>2018-07-25</td>\n",
       "      <td>18.0</td>\n",
       "      <td>64.0</td>\n",
       "    </tr>\n",
       "  </tbody>\n",
       "</table>\n",
       "</div>"
      ],
      "text/plain": [
       "                                                 App             Category  \\\n",
       "10833                                    Chemin (fr)  BOOKS_AND_REFERENCE   \n",
       "10834                                  FR Calculator               FAMILY   \n",
       "10836                               Sya9a Maroc - FR               FAMILY   \n",
       "10837               Fr. Mike Schmitz Audio Teachings               FAMILY   \n",
       "10840  iHoroscope - 2018 Daily Horoscope & Astrology            LIFESTYLE   \n",
       "\n",
       "       Rating  Reviews        Size     Installs  Type Price Content Rating  \\\n",
       "10833     4.8       44    619000.0       1,000+  Free     0       Everyone   \n",
       "10834     4.0        7   2600000.0         500+  Free     0       Everyone   \n",
       "10836     4.5       38  53000000.0       5,000+  Free     0       Everyone   \n",
       "10837     5.0        4   3600000.0         100+  Free     0       Everyone   \n",
       "10840     4.5   398307  19000000.0  10,000,000+  Free     0       Everyone   \n",
       "\n",
       "                  Genres         Current Ver         Android Ver  \\\n",
       "10833  Books & Reference                 0.8          2.2 and up   \n",
       "10834          Education               1.0.0          4.1 and up   \n",
       "10836          Education                1.48          4.1 and up   \n",
       "10837          Education                 1.0          4.1 and up   \n",
       "10840          Lifestyle  Varies with device  Varies with device   \n",
       "\n",
       "      date of last update  enc_Category  enc_Genres  \n",
       "10833          2014-03-23           3.0        18.0  \n",
       "10834          2017-06-18          11.0        36.0  \n",
       "10836          2017-07-25          11.0        36.0  \n",
       "10837          2018-07-06          11.0        36.0  \n",
       "10840          2018-07-25          18.0        64.0  "
      ]
     },
     "execution_count": 84,
     "metadata": {},
     "output_type": "execute_result"
    }
   ],
   "source": [
    "\n",
    "encoder=OrdinalEncoder()\n",
    "df['enc_Category']=encoder.fit_transform(df[[\"Category\"]])\n",
    "df['enc_Genres']=encoder.fit_transform(df[[\"Genres\"]])\n",
    "df.tail()\n"
   ]
  },
  {
   "cell_type": "code",
   "execution_count": 85,
   "metadata": {
    "execution": {
     "iopub.execute_input": "2022-03-04T11:24:00.894833Z",
     "iopub.status.busy": "2022-03-04T11:24:00.894579Z",
     "iopub.status.idle": "2022-03-04T11:24:00.931896Z",
     "shell.execute_reply": "2022-03-04T11:24:00.930806Z",
     "shell.execute_reply.started": "2022-03-04T11:24:00.894805Z"
    }
   },
   "outputs": [
    {
     "data": {
      "text/html": [
       "<div>\n",
       "<style scoped>\n",
       "    .dataframe tbody tr th:only-of-type {\n",
       "        vertical-align: middle;\n",
       "    }\n",
       "\n",
       "    .dataframe tbody tr th {\n",
       "        vertical-align: top;\n",
       "    }\n",
       "\n",
       "    .dataframe thead th {\n",
       "        text-align: right;\n",
       "    }\n",
       "</style>\n",
       "<table border=\"1\" class=\"dataframe\">\n",
       "  <thead>\n",
       "    <tr style=\"text-align: right;\">\n",
       "      <th></th>\n",
       "      <th>App</th>\n",
       "      <th>Category</th>\n",
       "      <th>Rating</th>\n",
       "      <th>Reviews</th>\n",
       "      <th>Size</th>\n",
       "      <th>Installs</th>\n",
       "      <th>Type</th>\n",
       "      <th>Price</th>\n",
       "      <th>Content Rating</th>\n",
       "      <th>Genres</th>\n",
       "      <th>Current Ver</th>\n",
       "      <th>Android Ver</th>\n",
       "      <th>date of last update</th>\n",
       "      <th>enc_Category</th>\n",
       "      <th>enc_Genres</th>\n",
       "    </tr>\n",
       "  </thead>\n",
       "  <tbody>\n",
       "    <tr>\n",
       "      <th>0</th>\n",
       "      <td>Photo Editor &amp; Candy Camera &amp; Grid &amp; ScrapBook</td>\n",
       "      <td>ART_AND_DESIGN</td>\n",
       "      <td>4.1</td>\n",
       "      <td>159</td>\n",
       "      <td>19000000.0</td>\n",
       "      <td>10000</td>\n",
       "      <td>Free</td>\n",
       "      <td>0</td>\n",
       "      <td>Everyone</td>\n",
       "      <td>Art &amp; Design</td>\n",
       "      <td>1.0.0</td>\n",
       "      <td>4.0.3 and up</td>\n",
       "      <td>2018-01-07</td>\n",
       "      <td>0.0</td>\n",
       "      <td>9.0</td>\n",
       "    </tr>\n",
       "    <tr>\n",
       "      <th>1</th>\n",
       "      <td>Coloring book moana</td>\n",
       "      <td>ART_AND_DESIGN</td>\n",
       "      <td>3.9</td>\n",
       "      <td>967</td>\n",
       "      <td>14000000.0</td>\n",
       "      <td>500000</td>\n",
       "      <td>Free</td>\n",
       "      <td>0</td>\n",
       "      <td>Everyone</td>\n",
       "      <td>Art &amp; Design;Pretend Play</td>\n",
       "      <td>2.0.0</td>\n",
       "      <td>4.0.3 and up</td>\n",
       "      <td>2018-01-15</td>\n",
       "      <td>0.0</td>\n",
       "      <td>11.0</td>\n",
       "    </tr>\n",
       "    <tr>\n",
       "      <th>2</th>\n",
       "      <td>U Launcher Lite – FREE Live Cool Themes, Hide ...</td>\n",
       "      <td>ART_AND_DESIGN</td>\n",
       "      <td>4.7</td>\n",
       "      <td>87510</td>\n",
       "      <td>8700000.0</td>\n",
       "      <td>5000000</td>\n",
       "      <td>Free</td>\n",
       "      <td>0</td>\n",
       "      <td>Everyone</td>\n",
       "      <td>Art &amp; Design</td>\n",
       "      <td>1.2.4</td>\n",
       "      <td>4.0.3 and up</td>\n",
       "      <td>2018-08-01</td>\n",
       "      <td>0.0</td>\n",
       "      <td>9.0</td>\n",
       "    </tr>\n",
       "    <tr>\n",
       "      <th>3</th>\n",
       "      <td>Sketch - Draw &amp; Paint</td>\n",
       "      <td>ART_AND_DESIGN</td>\n",
       "      <td>4.5</td>\n",
       "      <td>215644</td>\n",
       "      <td>25000000.0</td>\n",
       "      <td>50000000</td>\n",
       "      <td>Free</td>\n",
       "      <td>0</td>\n",
       "      <td>Teen</td>\n",
       "      <td>Art &amp; Design</td>\n",
       "      <td>Varies with device</td>\n",
       "      <td>4.2 and up</td>\n",
       "      <td>2018-06-08</td>\n",
       "      <td>0.0</td>\n",
       "      <td>9.0</td>\n",
       "    </tr>\n",
       "    <tr>\n",
       "      <th>4</th>\n",
       "      <td>Pixel Draw - Number Art Coloring Book</td>\n",
       "      <td>ART_AND_DESIGN</td>\n",
       "      <td>4.3</td>\n",
       "      <td>967</td>\n",
       "      <td>2800000.0</td>\n",
       "      <td>100000</td>\n",
       "      <td>Free</td>\n",
       "      <td>0</td>\n",
       "      <td>Everyone</td>\n",
       "      <td>Art &amp; Design;Creativity</td>\n",
       "      <td>1.1</td>\n",
       "      <td>4.4 and up</td>\n",
       "      <td>2018-06-20</td>\n",
       "      <td>0.0</td>\n",
       "      <td>10.0</td>\n",
       "    </tr>\n",
       "  </tbody>\n",
       "</table>\n",
       "</div>"
      ],
      "text/plain": [
       "                                                 App        Category  Rating  \\\n",
       "0     Photo Editor & Candy Camera & Grid & ScrapBook  ART_AND_DESIGN     4.1   \n",
       "1                                Coloring book moana  ART_AND_DESIGN     3.9   \n",
       "2  U Launcher Lite – FREE Live Cool Themes, Hide ...  ART_AND_DESIGN     4.7   \n",
       "3                              Sketch - Draw & Paint  ART_AND_DESIGN     4.5   \n",
       "4              Pixel Draw - Number Art Coloring Book  ART_AND_DESIGN     4.3   \n",
       "\n",
       "   Reviews        Size  Installs  Type Price Content Rating  \\\n",
       "0      159  19000000.0     10000  Free     0       Everyone   \n",
       "1      967  14000000.0    500000  Free     0       Everyone   \n",
       "2    87510   8700000.0   5000000  Free     0       Everyone   \n",
       "3   215644  25000000.0  50000000  Free     0           Teen   \n",
       "4      967   2800000.0    100000  Free     0       Everyone   \n",
       "\n",
       "                      Genres         Current Ver   Android Ver  \\\n",
       "0               Art & Design               1.0.0  4.0.3 and up   \n",
       "1  Art & Design;Pretend Play               2.0.0  4.0.3 and up   \n",
       "2               Art & Design               1.2.4  4.0.3 and up   \n",
       "3               Art & Design  Varies with device    4.2 and up   \n",
       "4    Art & Design;Creativity                 1.1    4.4 and up   \n",
       "\n",
       "  date of last update  enc_Category  enc_Genres  \n",
       "0          2018-01-07           0.0         9.0  \n",
       "1          2018-01-15           0.0        11.0  \n",
       "2          2018-08-01           0.0         9.0  \n",
       "3          2018-06-08           0.0         9.0  \n",
       "4          2018-06-20           0.0        10.0  "
      ]
     },
     "execution_count": 85,
     "metadata": {},
     "output_type": "execute_result"
    }
   ],
   "source": [
    "#df[\"Size\"]=df.Size.apply(lambda x:x.strip(\"+\"))\n",
    "#df[\"Size\"]=df.Size.apply(lambda x:x.replace(',',''))\n",
    "#df[\"Size\"]=df.Size.apply(lambda x:x.replace(\",\",\"\"))\n",
    "\n",
    "\n",
    "\n",
    "\n",
    "\n",
    "df[\"Installs\"]=df.Installs.apply(lambda x:x.strip(\"+\"))\n",
    "df[\"Installs\"]=df.Installs.apply(lambda x:x.replace(\",\",\"\"))\n",
    "df[\"Installs\"]=df.Installs.astype(int)\n",
    "df.head()\n"
   ]
  },
  {
   "cell_type": "code",
   "execution_count": 86,
   "metadata": {
    "execution": {
     "iopub.execute_input": "2022-03-04T11:24:00.933718Z",
     "iopub.status.busy": "2022-03-04T11:24:00.933413Z",
     "iopub.status.idle": "2022-03-04T11:24:00.958388Z",
     "shell.execute_reply": "2022-03-04T11:24:00.957122Z",
     "shell.execute_reply.started": "2022-03-04T11:24:00.933685Z"
    }
   },
   "outputs": [
    {
     "name": "stdout",
     "output_type": "stream",
     "text": [
      "<class 'pandas.core.frame.DataFrame'>\n",
      "Int64Index: 7723 entries, 0 to 10840\n",
      "Data columns (total 15 columns):\n",
      " #   Column               Non-Null Count  Dtype         \n",
      "---  ------               --------------  -----         \n",
      " 0   App                  7723 non-null   object        \n",
      " 1   Category             7723 non-null   object        \n",
      " 2   Rating               7723 non-null   float64       \n",
      " 3   Reviews              7723 non-null   int32         \n",
      " 4   Size                 7723 non-null   float64       \n",
      " 5   Installs             7723 non-null   int32         \n",
      " 6   Type                 7723 non-null   object        \n",
      " 7   Price                7723 non-null   object        \n",
      " 8   Content Rating       7723 non-null   object        \n",
      " 9   Genres               7723 non-null   object        \n",
      " 10  Current Ver          7723 non-null   object        \n",
      " 11  Android Ver          7723 non-null   object        \n",
      " 12  date of last update  7723 non-null   datetime64[ns]\n",
      " 13  enc_Category         7723 non-null   float64       \n",
      " 14  enc_Genres           7723 non-null   float64       \n",
      "dtypes: datetime64[ns](1), float64(4), int32(2), object(8)\n",
      "memory usage: 905.0+ KB\n"
     ]
    }
   ],
   "source": [
    "df.info()"
   ]
  },
  {
   "cell_type": "code",
   "execution_count": 87,
   "metadata": {
    "execution": {
     "iopub.execute_input": "2022-03-04T11:24:00.960489Z",
     "iopub.status.busy": "2022-03-04T11:24:00.960059Z",
     "iopub.status.idle": "2022-03-04T11:24:00.967590Z",
     "shell.execute_reply": "2022-03-04T11:24:00.966421Z",
     "shell.execute_reply.started": "2022-03-04T11:24:00.960450Z"
    }
   },
   "outputs": [
    {
     "name": "stdout",
     "output_type": "stream",
     "text": [
      "['0' '$4.99' '$6.99' '$7.99' '$3.99' '$5.99' '$2.99' '$1.99' '$9.99'\n",
      " '$0.99' '$9.00' '$5.49' '$10.00' '$24.99' '$11.99' '$79.99' '$16.99'\n",
      " '$14.99' '$29.99' '$12.99' '$3.49' '$10.99' '$7.49' '$1.50' '$19.99'\n",
      " '$15.99' '$33.99' '$39.99' '$2.49' '$4.49' '$1.70' '$1.49' '$3.88'\n",
      " '$399.99' '$17.99' '$400.00' '$3.02' '$1.76' '$4.84' '$4.77' '$1.61'\n",
      " '$1.59' '$6.49' '$1.29' '$299.99' '$379.99' '$37.99' '$18.99' '$389.99'\n",
      " '$8.49' '$1.75' '$14.00' '$2.00' '$3.08' '$2.59' '$19.40' '$15.46'\n",
      " '$8.99' '$3.04' '$13.99' '$4.29' '$3.28' '$4.60' '$1.00' '$2.90' '$1.97'\n",
      " '$2.56' '$1.20']\n",
      "object\n"
     ]
    }
   ],
   "source": [
    "print(df[\"Price\"].unique())\n",
    "print(df[\"Price\"].dtype)"
   ]
  },
  {
   "cell_type": "code",
   "execution_count": 88,
   "metadata": {
    "execution": {
     "iopub.execute_input": "2022-03-04T11:24:00.969894Z",
     "iopub.status.busy": "2022-03-04T11:24:00.969060Z",
     "iopub.status.idle": "2022-03-04T11:24:00.994364Z",
     "shell.execute_reply": "2022-03-04T11:24:00.993416Z",
     "shell.execute_reply.started": "2022-03-04T11:24:00.969840Z"
    }
   },
   "outputs": [
    {
     "data": {
      "text/plain": [
       "array([  0.  ,   4.99,   6.99,   7.99,   3.99,   5.99,   2.99,   1.99,\n",
       "         9.99,   0.99,   9.  ,   5.49,  10.  ,  24.99,  11.99,  79.99,\n",
       "        16.99,  14.99,  29.99,  12.99,   3.49,  10.99,   7.49,   1.5 ,\n",
       "        19.99,  15.99,  33.99,  39.99,   2.49,   4.49,   1.7 ,   1.49,\n",
       "         3.88, 399.99,  17.99, 400.  ,   3.02,   1.76,   4.84,   4.77,\n",
       "         1.61,   1.59,   6.49,   1.29, 299.99, 379.99,  37.99,  18.99,\n",
       "       389.99,   8.49,   1.75,  14.  ,   2.  ,   3.08,   2.59,  19.4 ,\n",
       "        15.46,   8.99,   3.04,  13.99,   4.29,   3.28,   4.6 ,   1.  ,\n",
       "         2.9 ,   1.97,   2.56,   1.2 ])"
      ]
     },
     "execution_count": 88,
     "metadata": {},
     "output_type": "execute_result"
    }
   ],
   "source": [
    "#df[\"Size\"]=df.Size.apply(lambda x:x.strip(\"+\"))\n",
    "#df[\"Size\"]=df.Size.apply(lambda x:x.replace(',',''))\n",
    "#df[\"Size\"]=df.Size.apply(lambda x:x.replace(\",\",\"\"))\n",
    "df[\"Price\"]=df.Price.apply(lambda x:x.strip(\"$\"))\n",
    "df[\"Price\"]=df.Price.astype(float)\n",
    "df.Price.unique()"
   ]
  },
  {
   "cell_type": "code",
   "execution_count": 89,
   "metadata": {
    "execution": {
     "iopub.execute_input": "2022-03-04T11:24:00.996095Z",
     "iopub.status.busy": "2022-03-04T11:24:00.995766Z",
     "iopub.status.idle": "2022-03-04T11:24:01.027117Z",
     "shell.execute_reply": "2022-03-04T11:24:01.026026Z",
     "shell.execute_reply.started": "2022-03-04T11:24:00.996050Z"
    }
   },
   "outputs": [
    {
     "name": "stdout",
     "output_type": "stream",
     "text": [
      "<class 'pandas.core.frame.DataFrame'>\n",
      "Int64Index: 7723 entries, 0 to 10840\n",
      "Data columns (total 15 columns):\n",
      " #   Column               Non-Null Count  Dtype         \n",
      "---  ------               --------------  -----         \n",
      " 0   App                  7723 non-null   object        \n",
      " 1   Category             7723 non-null   object        \n",
      " 2   Rating               7723 non-null   float64       \n",
      " 3   Reviews              7723 non-null   int32         \n",
      " 4   Size                 7723 non-null   float64       \n",
      " 5   Installs             7723 non-null   int32         \n",
      " 6   Type                 7723 non-null   object        \n",
      " 7   Price                7723 non-null   float64       \n",
      " 8   Content Rating       7723 non-null   object        \n",
      " 9   Genres               7723 non-null   object        \n",
      " 10  Current Ver          7723 non-null   object        \n",
      " 11  Android Ver          7723 non-null   object        \n",
      " 12  date of last update  7723 non-null   datetime64[ns]\n",
      " 13  enc_Category         7723 non-null   float64       \n",
      " 14  enc_Genres           7723 non-null   float64       \n",
      "dtypes: datetime64[ns](1), float64(5), int32(2), object(7)\n",
      "memory usage: 905.0+ KB\n"
     ]
    }
   ],
   "source": [
    "df.info()"
   ]
  },
  {
   "cell_type": "code",
   "execution_count": 90,
   "metadata": {
    "execution": {
     "iopub.execute_input": "2022-03-04T11:24:01.028883Z",
     "iopub.status.busy": "2022-03-04T11:24:01.028546Z",
     "iopub.status.idle": "2022-03-04T11:24:02.758289Z",
     "shell.execute_reply": "2022-03-04T11:24:02.757346Z",
     "shell.execute_reply.started": "2022-03-04T11:24:01.028835Z"
    }
   },
   "outputs": [
    {
     "data": {
      "image/png": "[encoded data removed]",
      "text/plain": [
       "<Figure size 1440x720 with 1 Axes>"
      ]
     },
     "metadata": {
      "needs_background": "light"
     },
     "output_type": "display_data"
    }
   ],
   "source": [
    "cat_df=pd.DataFrame(df['Category'].value_counts().reset_index().rename(columns={\"index\":\"Categories\",\"Category\":\"Count\"}))\n",
    "\n",
    "cat_lst=list(cat_df[\"Categories\"])\n",
    "\n",
    "\n",
    "\n",
    "\n",
    "plt.figure(figsize=(20,10))\n",
    "plt.title(\"No. of Installs per Category\")\n",
    "\n",
    "ax=sns.barplot(x=df[\"enc_Category\"],y=df[\"Installs\"])\n",
    "ax.set(ylabel=\"Installs in Millions\")\n",
    "ax.set_xticklabels(cat_lst,rotation=45)\n",
    "plt.show()"
   ]
  },
  {
   "cell_type": "code",
   "execution_count": 91,
   "metadata": {
    "execution": {
     "iopub.execute_input": "2022-03-04T11:24:02.760368Z",
     "iopub.status.busy": "2022-03-04T11:24:02.759853Z",
     "iopub.status.idle": "2022-03-04T11:24:02.886193Z",
     "shell.execute_reply": "2022-03-04T11:24:02.884925Z",
     "shell.execute_reply.started": "2022-03-04T11:24:02.760321Z"
    }
   },
   "outputs": [
    {
     "data": {
      "image/png": "[encoded data removed]",
      "text/plain": [
       "<Figure size 432x288 with 1 Axes>"
      ]
     },
     "metadata": {},
     "output_type": "display_data"
    }
   ],
   "source": [
    "df.Type.value_counts()\n",
    "vals=[7146,577]\n",
    "labels=[\"Free\",\"Paid\"]\n",
    "plt.pie(vals,labels=labels,autopct=\"%0.2f%%\",explode=[0,0.2],radius=1.6)\n",
    "plt.show()"
   ]
  },
  {
   "cell_type": "code",
   "execution_count": 92,
   "metadata": {
    "execution": {
     "iopub.execute_input": "2022-03-04T11:24:02.888904Z",
     "iopub.status.busy": "2022-03-04T11:24:02.888165Z",
     "iopub.status.idle": "2022-03-04T11:24:02.920620Z",
     "shell.execute_reply": "2022-03-04T11:24:02.919336Z",
     "shell.execute_reply.started": "2022-03-04T11:24:02.888845Z"
    }
   },
   "outputs": [
    {
     "name": "stdout",
     "output_type": "stream",
     "text": [
      "<class 'pandas.core.frame.DataFrame'>\n",
      "Int64Index: 7723 entries, 0 to 10840\n",
      "Data columns (total 15 columns):\n",
      " #   Column               Non-Null Count  Dtype         \n",
      "---  ------               --------------  -----         \n",
      " 0   App                  7723 non-null   object        \n",
      " 1   Category             7723 non-null   object        \n",
      " 2   Rating               7723 non-null   float64       \n",
      " 3   Reviews              7723 non-null   int32         \n",
      " 4   Size                 7723 non-null   float64       \n",
      " 5   Installs             7723 non-null   int32         \n",
      " 6   Type                 7723 non-null   object        \n",
      " 7   Price                7723 non-null   float64       \n",
      " 8   Content Rating       7723 non-null   object        \n",
      " 9   Genres               7723 non-null   object        \n",
      " 10  Current Ver          7723 non-null   object        \n",
      " 11  Android Ver          7723 non-null   object        \n",
      " 12  date of last update  7723 non-null   datetime64[ns]\n",
      " 13  enc_Category         7723 non-null   float64       \n",
      " 14  enc_Genres           7723 non-null   float64       \n",
      "dtypes: datetime64[ns](1), float64(5), int32(2), object(7)\n",
      "memory usage: 1.2+ MB\n"
     ]
    }
   ],
   "source": [
    "df.info()"
   ]
  },
  {
   "cell_type": "code",
   "execution_count": 93,
   "metadata": {
    "execution": {
     "iopub.execute_input": "2022-03-04T11:24:02.923216Z",
     "iopub.status.busy": "2022-03-04T11:24:02.922571Z",
     "iopub.status.idle": "2022-03-04T11:24:03.489699Z",
     "shell.execute_reply": "2022-03-04T11:24:03.488783Z",
     "shell.execute_reply.started": "2022-03-04T11:24:02.923158Z"
    }
   },
   "outputs": [
    {
     "data": {
      "text/plain": [
       "<matplotlib.axes._subplots.AxesSubplot at 0x1e8865727c8>"
      ]
     },
     "execution_count": 93,
     "metadata": {},
     "output_type": "execute_result"
    },
    {
     "data": {
      "image/png": "[encoded data removed]",
      "text/plain": [
       "<Figure size 720x576 with 1 Axes>"
      ]
     },
     "metadata": {
      "needs_background": "light"
     },
     "output_type": "display_data"
    }
   ],
   "source": [
    "plt.figure(figsize=(10,8))\n",
    "sns.countplot(y=\"Rating\",data=df)"
   ]
  },
  {
   "cell_type": "code",
   "execution_count": 94,
   "metadata": {
    "execution": {
     "iopub.execute_input": "2022-03-04T11:24:03.491197Z",
     "iopub.status.busy": "2022-03-04T11:24:03.490953Z",
     "iopub.status.idle": "2022-03-04T11:24:05.303765Z",
     "shell.execute_reply": "2022-03-04T11:24:05.302690Z",
     "shell.execute_reply.started": "2022-03-04T11:24:03.491168Z"
    }
   },
   "outputs": [
    {
     "data": {
      "image/png": "[encoded data removed]",
      "text/plain": [
       "<Figure size 864x720 with 1 Axes>"
      ]
     },
     "metadata": {
      "needs_background": "light"
     },
     "output_type": "display_data"
    }
   ],
   "source": [
    "plt.figure(figsize=(12,10))\n",
    "plt.title(\"Rating for each Categories\")\n",
    "ax=sns.barplot(x=df[\"enc_Category\"],y=df[\"Rating\"])\n",
    "ax.set_xticklabels(cat_lst,rotation=45)\n",
    "plt.show()"
   ]
  },
  {
   "cell_type": "code",
   "execution_count": 95,
   "metadata": {
    "execution": {
     "iopub.execute_input": "2022-03-04T11:24:05.305709Z",
     "iopub.status.busy": "2022-03-04T11:24:05.305357Z",
     "iopub.status.idle": "2022-03-04T11:24:05.327611Z",
     "shell.execute_reply": "2022-03-04T11:24:05.326861Z",
     "shell.execute_reply.started": "2022-03-04T11:24:05.305661Z"
    }
   },
   "outputs": [
    {
     "name": "stdout",
     "output_type": "stream",
     "text": [
      "<class 'pandas.core.frame.DataFrame'>\n",
      "Int64Index: 7723 entries, 0 to 10840\n",
      "Data columns (total 15 columns):\n",
      " #   Column               Non-Null Count  Dtype         \n",
      "---  ------               --------------  -----         \n",
      " 0   App                  7723 non-null   object        \n",
      " 1   Category             7723 non-null   object        \n",
      " 2   Rating               7723 non-null   float64       \n",
      " 3   Reviews              7723 non-null   int32         \n",
      " 4   Size                 7723 non-null   float64       \n",
      " 5   Installs             7723 non-null   int32         \n",
      " 6   Type                 7723 non-null   object        \n",
      " 7   Price                7723 non-null   float64       \n",
      " 8   Content Rating       7723 non-null   object        \n",
      " 9   Genres               7723 non-null   object        \n",
      " 10  Current Ver          7723 non-null   object        \n",
      " 11  Android Ver          7723 non-null   object        \n",
      " 12  date of last update  7723 non-null   datetime64[ns]\n",
      " 13  enc_Category         7723 non-null   float64       \n",
      " 14  enc_Genres           7723 non-null   float64       \n",
      "dtypes: datetime64[ns](1), float64(5), int32(2), object(7)\n",
      "memory usage: 1.2+ MB\n"
     ]
    }
   ],
   "source": [
    "df.info()"
   ]
  },
  {
   "cell_type": "code",
   "execution_count": 96,
   "metadata": {
    "execution": {
     "iopub.execute_input": "2022-03-04T11:24:05.329463Z",
     "iopub.status.busy": "2022-03-04T11:24:05.329109Z",
     "iopub.status.idle": "2022-03-04T11:24:05.336513Z",
     "shell.execute_reply": "2022-03-04T11:24:05.335359Z",
     "shell.execute_reply.started": "2022-03-04T11:24:05.329424Z"
    }
   },
   "outputs": [],
   "source": [
    "def top_Apps(str):\n",
    "    str=str.upper()\n",
    "    top=df[df[\"Category\"]==str]\n",
    "    top_app=top.sort_values(by=\"Installs\",ascending=False).head(3)\n",
    "    \n",
    "    plt.figure(figsize=(10,8))\n",
    "    plt.title(\"Top Apps For Each Category\")\n",
    "    ax=sns.barplot(x=top_app.App,y=top_app.Installs)\n",
    "    ax.set_xticklabels(top_app.App,rotation=60)\n",
    "    plt.show()"
   ]
  },
  {
   "cell_type": "code",
   "execution_count": 97,
   "metadata": {
    "execution": {
     "iopub.execute_input": "2022-03-04T11:24:05.338336Z",
     "iopub.status.busy": "2022-03-04T11:24:05.338025Z",
     "iopub.status.idle": "2022-03-04T11:24:05.497925Z",
     "shell.execute_reply": "2022-03-04T11:24:05.496870Z",
     "shell.execute_reply.started": "2022-03-04T11:24:05.338303Z"
    }
   },
   "outputs": [
    {
     "data": {
      "image/png": "[encoded data removed]",
      "text/plain": [
       "<Figure size 720x576 with 1 Axes>"
      ]
     },
     "metadata": {
      "needs_background": "light"
     },
     "output_type": "display_data"
    }
   ],
   "source": [
    "top_Apps(\"SOCIAL\")"
   ]
  },
  {
   "cell_type": "code",
   "execution_count": 98,
   "metadata": {
    "execution": {
     "iopub.execute_input": "2022-03-04T11:24:05.500373Z",
     "iopub.status.busy": "2022-03-04T11:24:05.499581Z",
     "iopub.status.idle": "2022-03-04T11:24:05.898930Z",
     "shell.execute_reply": "2022-03-04T11:24:05.898000Z",
     "shell.execute_reply.started": "2022-03-04T11:24:05.500321Z"
    }
   },
   "outputs": [
    {
     "name": "stderr",
     "output_type": "stream",
     "text": [
      "C:\\Users\\Om\\anaconda3\\lib\\site-packages\\matplotlib\\backends\\backend_agg.py:211: RuntimeWarning: Glyph 55357 missing from current font.\n",
      "  font.set_text(s, 0.0, flags=flags)\n",
      "C:\\Users\\Om\\anaconda3\\lib\\site-packages\\matplotlib\\backends\\backend_agg.py:211: RuntimeWarning: Glyph 56462 missing from current font.\n",
      "  font.set_text(s, 0.0, flags=flags)\n",
      "C:\\Users\\Om\\anaconda3\\lib\\site-packages\\matplotlib\\backends\\backend_agg.py:180: RuntimeWarning: Glyph 55357 missing from current font.\n",
      "  font.set_text(s, 0, flags=flags)\n",
      "C:\\Users\\Om\\anaconda3\\lib\\site-packages\\matplotlib\\backends\\backend_agg.py:180: RuntimeWarning: Glyph 56462 missing from current font.\n",
      "  font.set_text(s, 0, flags=flags)\n"
     ]
    },
    {
     "data": {
      "image/png": "[encoded data removed]",
      "text/plain": [
       "<Figure size 432x288 with 1 Axes>"
      ]
     },
     "metadata": {},
     "output_type": "display_data"
    }
   ],
   "source": [
    "top_paid=df[df[\"Type\"]==\"Paid\"].sort_values(by=\"Price\",ascending=False).head(10)\n",
    "vals=top_paid[\"Installs\"]\n",
    "labels=top_paid[\"App\"]\n",
    "#plt.title(\"Top Paid Apps\",fontsize=20,loc=\"center\")\n",
    "plt.pie(vals,labels=labels,radius=3.5,autopct=\"%0.1f%%\",startangle=60,explode=[0.3,0.2,0,0.5,0.7,0.3,0.4,0.5,0.3,0.4])\n",
    "plt.legend(labels,loc=\"best\",fontsize=6)\n",
    "\n",
    "\n",
    "\n",
    "plt.show()\n"
   ]
  },
  {
   "cell_type": "code",
   "execution_count": 99,
   "metadata": {
    "execution": {
     "iopub.execute_input": "2022-03-04T11:24:05.900963Z",
     "iopub.status.busy": "2022-03-04T11:24:05.900624Z",
     "iopub.status.idle": "2022-03-04T11:24:06.350405Z",
     "shell.execute_reply": "2022-03-04T11:24:06.349451Z",
     "shell.execute_reply.started": "2022-03-04T11:24:05.900915Z"
    }
   },
   "outputs": [
    {
     "data": {
      "image/png": "[encoded data removed]",
      "text/plain": [
       "<Figure size 576x576 with 2 Axes>"
      ]
     },
     "metadata": {
      "needs_background": "light"
     },
     "output_type": "display_data"
    }
   ],
   "source": [
    "plt.figure(figsize=(8,8))\n",
    "plt.title(\"CORRELATION HEATMAP OF THE DATA\",fontsize=25)\n",
    "corr=df.corr()\n",
    "\n",
    "ax=sns.heatmap(corr,annot=True)\n",
    "plt.show()"
   ]
  },
  {
   "cell_type": "code",
   "execution_count": null,
   "metadata": {},
   "outputs": [],
   "source": []
  },
  {
   "cell_type": "code",
   "execution_count": null,
   "metadata": {},
   "outputs": [],
   "source": []
  },
  {
   "cell_type": "code",
   "execution_count": null,
   "metadata": {},
   "outputs": [],
   "source": []
  },
  {
   "cell_type": "code",
   "execution_count": null,
   "metadata": {},
   "outputs": [],
   "source": []
  }
 ],
 "metadata": {
  "kernelspec": {
   "display_name": "Python 3",
   "language": "python",
   "name": "python3"
  },
  "language_info": {
   "codemirror_mode": {
    "name": "ipython",
    "version": 3
   },
   "file_extension": ".py",
   "mimetype": "text/x-python",
   "name": "python",
   "nbconvert_exporter": "python",
   "pygments_lexer": "ipython3",
   "version": "3.7.6"
  }
 },
 "nbformat": 4,
 "nbformat_minor": 4
}
